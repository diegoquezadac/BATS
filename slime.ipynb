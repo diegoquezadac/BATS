{
 "cells": [
  {
   "cell_type": "code",
   "execution_count": null,
   "metadata": {},
   "outputs": [],
   "source": [
    "import whisper\n",
    "import numpy as np\n",
    "import sounddevice as sd\n",
    "import matplotlib.pyplot as plt\n",
    "from src.models.slime import SLIME\n",
    "from sklearn.linear_model import LinearRegression\n",
    "from sklearn.tree import DecisionTreeRegressor\n",
    "from src.data.dataset import CommonVoice"
   ]
  },
  {
   "cell_type": "code",
   "execution_count": null,
   "metadata": {},
   "outputs": [],
   "source": [
    "np.random.seed(21)\n",
    "ds_test = CommonVoice(\"test\", use_mfcc=False)\n",
    "x, y = ds_test[4]"
   ]
  },
  {
   "cell_type": "code",
   "execution_count": null,
   "metadata": {},
   "outputs": [],
   "source": [
    "def _transcribe(f, x: np.ndarray) -> str:\n",
    "    x = whisper.pad_or_trim(x)\n",
    "    result = f.transcribe(x)\n",
    "    return result[\"text\"]"
   ]
  },
  {
   "cell_type": "code",
   "execution_count": null,
   "metadata": {},
   "outputs": [],
   "source": [
    "f = whisper.load_model(\"tiny\")\n",
    "#g = LinearRegression()\n",
    "g = DecisionTreeRegressor(max_depth=5)\n",
    "sample_rate = 16_000\n",
    "segment_length = 500\n",
    "\n",
    "explainer = SLIME(f, g, sample_rate, segment_length)"
   ]
  },
  {
   "cell_type": "code",
   "execution_count": null,
   "metadata": {},
   "outputs": [],
   "source": [
    "# Create audio file with the original audio (save it to disk)\n",
    "sd.play(x, sample_rate)"
   ]
  },
  {
   "cell_type": "code",
   "execution_count": null,
   "metadata": {},
   "outputs": [],
   "source": [
    "print(f\"Whisper transcription: {_transcribe(f, x.numpy())}\")\n",
    "print(f\"Correct transcription: {ds_test.vocab.decode(y.numpy())}\")"
   ]
  },
  {
   "cell_type": "code",
   "execution_count": null,
   "metadata": {},
   "outputs": [],
   "source": [
    "explainer.fit(x.numpy(), n_perturbations=250)"
   ]
  },
  {
   "cell_type": "code",
   "execution_count": null,
   "metadata": {},
   "outputs": [],
   "source": [
    "explainer.g.feature_importances_"
   ]
  },
  {
   "cell_type": "code",
   "execution_count": null,
   "metadata": {},
   "outputs": [],
   "source": [
    "explainer.g.score(explainer.X, explainer.y)"
   ]
  },
  {
   "cell_type": "code",
   "execution_count": null,
   "metadata": {},
   "outputs": [],
   "source": [
    "plt.bar(np.arange(explainer.n_segments), explainer.coef)\n",
    "plt.grid()\n",
    "plt.xlabel('Segmento')\n",
    "plt.ylabel('Importancia de Gini')\n",
    "plt.savefig('./paper/images/gini.png')\n",
    "plt.show()"
   ]
  },
  {
   "cell_type": "code",
   "execution_count": null,
   "metadata": {},
   "outputs": [],
   "source": [
    "plt.bar(np.arange(explainer.n_segments), explainer.segment_importance)\n",
    "plt.grid()\n",
    "plt.xlabel('Segmento')\n",
    "plt.ylabel('Importancia')\n",
    "plt.savefig('./paper/images/slime.png')\n",
    "plt.show()"
   ]
  },
  {
   "cell_type": "code",
   "execution_count": null,
   "metadata": {},
   "outputs": [],
   "source": [
    "sd.play(x*10, sample_rate)"
   ]
  },
  {
   "cell_type": "code",
   "execution_count": null,
   "metadata": {},
   "outputs": [],
   "source": [
    "explainer.explain(x)"
   ]
  },
  {
   "cell_type": "code",
   "execution_count": null,
   "metadata": {},
   "outputs": [],
   "source": [
    "from pydub import AudioSegment\n",
    "\n",
    "x_16bit = np.int16(x * (2**15 - 1))\n",
    "\n",
    "# Create an audio segment\n",
    "audio_segment = AudioSegment(\n",
    "    x_16bit.tobytes(), \n",
    "    frame_rate=sample_rate,\n",
    "    sample_width=x_16bit.dtype.itemsize, \n",
    "    channels=1\n",
    ")\n",
    "\n",
    "# Export to an MP3 file\n",
    "audio_segment.export(\"output.mp3\", format=\"mp3\")\n",
    "\n",
    "# Split the audio segment into chunks of 500 ms\n",
    "chunks = audio_segment[::segment_length]\n",
    "\n",
    "# Export each chunk to a separate MP3 file\n",
    "for i, chunk in enumerate(chunks):\n",
    "    chunk.export(f\"output_{i}.mp3\", format=\"mp3\")"
   ]
  },
  {
   "cell_type": "code",
   "execution_count": null,
   "metadata": {},
   "outputs": [],
   "source": []
  }
 ],
 "metadata": {
  "kernelspec": {
   "display_name": ".venv",
   "language": "python",
   "name": "python3"
  },
  "language_info": {
   "codemirror_mode": {
    "name": "ipython",
    "version": 3
   },
   "file_extension": ".py",
   "mimetype": "text/x-python",
   "name": "python",
   "nbconvert_exporter": "python",
   "pygments_lexer": "ipython3",
   "version": "3.10.13"
  }
 },
 "nbformat": 4,
 "nbformat_minor": 2
}
