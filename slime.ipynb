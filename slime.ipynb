{
 "cells": [
  {
   "cell_type": "code",
   "execution_count": 14,
   "metadata": {},
   "outputs": [],
   "source": [
    "import nltk\n",
    "import whisper\n",
    "import numpy as np\n",
    "from sklearn.linear_model import LinearRegression\n",
    "from src.data.dataset import CommonVoice"
   ]
  },
  {
   "cell_type": "code",
   "execution_count": 16,
   "metadata": {},
   "outputs": [],
   "source": [
    "#!pip install git+https://github.com/openai/whisper.git"
   ]
  },
  {
   "cell_type": "code",
   "execution_count": 17,
   "metadata": {},
   "outputs": [],
   "source": [
    "model = whisper.load_model(\"small\")\n",
    "ds_test = CommonVoice(\"test\")"
   ]
  },
  {
   "cell_type": "code",
   "execution_count": 35,
   "metadata": {},
   "outputs": [],
   "source": [
    "x, y = ds_test[40]"
   ]
  },
  {
   "cell_type": "code",
   "execution_count": 36,
   "metadata": {},
   "outputs": [
    {
     "data": {
      "text/plain": [
       "'they perfectly illuminate the flowerbeds of gardens . <pad> <pad> <pad> <pad> <pad> <pad> <pad>'"
      ]
     },
     "execution_count": 36,
     "metadata": {},
     "output_type": "execute_result"
    }
   ],
   "source": [
    "ds_test.vocab.decode(y.numpy())"
   ]
  },
  {
   "cell_type": "code",
   "execution_count": 37,
   "metadata": {},
   "outputs": [
    {
     "name": "stderr",
     "output_type": "stream",
     "text": [
      "/Users/diego/dev/BATS/.venv/lib/python3.10/site-packages/whisper/transcribe.py:115: UserWarning: FP16 is not supported on CPU; using FP32 instead\n",
      "  warnings.warn(\"FP16 is not supported on CPU; using FP32 instead\")\n"
     ]
    }
   ],
   "source": [
    "audio = whisper.pad_or_trim(x.numpy())\n",
    "result = model.transcribe(audio)[\"text\"]"
   ]
  },
  {
   "cell_type": "code",
   "execution_count": 38,
   "metadata": {},
   "outputs": [],
   "source": [
    "# Define the function to transcribe audio using Whisper\n",
    "def transcribe(audio):\n",
    "    audio = whisper.pad_or_trim(audio)  # Make sure the audio is the right length\n",
    "    result = model.transcribe(audio)\n",
    "    return result['text']\n",
    "\n",
    "# Define the function to segment audio\n",
    "def segment_audio(audio, segment_length_ms, sample_rate):\n",
    "    segment_length = int((segment_length_ms / 1000) * sample_rate)\n",
    "    return np.array_split(audio, np.arange(segment_length, len(audio), segment_length))\n",
    "\n",
    "# Define the function to apply mask\n",
    "def apply_mask(segments, mask):\n",
    "    masked_audio = np.concatenate([seg if m else np.zeros_like(seg) for seg, m in zip(segments, mask)])\n",
    "    return masked_audio\n",
    "\n",
    "# Load your audio data\n",
    "audio_data = x.numpy()  # Replace with your actual audio data as a NumPy array\n",
    "sample_rate = 16_000  # Replace with the sample rate of your audio data\n",
    "segment_length_ms = 100  # Length of each audio segment in milliseconds\n",
    "\n",
    "# Segment the audio\n",
    "segments = segment_audio(audio_data, segment_length_ms, sample_rate)\n",
    "\n",
    "# Get the original transcription\n",
    "original_transcription = transcribe(audio_data)"
   ]
  },
  {
   "cell_type": "code",
   "execution_count": 39,
   "metadata": {},
   "outputs": [],
   "source": [
    "# Generate perturbed versions of the audio and calculate Levenshtein distances\n",
    "num_perturbations = 100  # Number of perturbed samples\n",
    "num_segments = len(segments)\n",
    "perturbation_matrix = np.random.binomial(1, 0.5, size=(num_perturbations, num_segments))\n",
    "levenshtein_distances = np.zeros(num_perturbations)\n"
   ]
  },
  {
   "cell_type": "code",
   "execution_count": 40,
   "metadata": {},
   "outputs": [],
   "source": [
    "for i, mask in enumerate(perturbation_matrix):\n",
    "    perturbed_audio = apply_mask(segments, mask)\n",
    "    perturbed_transcription = transcribe(perturbed_audio)\n",
    "    levenshtein_distances[i] = nltk.edit_distance(original_transcription, perturbed_transcription)"
   ]
  },
  {
   "cell_type": "code",
   "execution_count": 43,
   "metadata": {},
   "outputs": [],
   "source": [
    "# Fit a linear regression model\n",
    "model = LinearRegression()\n",
    "model.fit(perturbation_matrix, levenshtein_distances)\n",
    "\n",
    "# Coefficients indicate the importance of each segment\n",
    "segment_importance = model.coef_"
   ]
  },
  {
   "cell_type": "code",
   "execution_count": 44,
   "metadata": {},
   "outputs": [
    {
     "data": {
      "text/plain": [
       "0.7732094277332835"
      ]
     },
     "execution_count": 44,
     "metadata": {},
     "output_type": "execute_result"
    }
   ],
   "source": [
    "model.score(perturbation_matrix, levenshtein_distances)"
   ]
  },
  {
   "cell_type": "code",
   "execution_count": 71,
   "metadata": {},
   "outputs": [
    {
     "data": {
      "text/plain": [
       "'joe keaton disapproved of films , and buster also had reservations about the medium .'"
      ]
     },
     "execution_count": 71,
     "metadata": {},
     "output_type": "execute_result"
    }
   ],
   "source": [
    "ds_test.vocab.decode(y.numpy())"
   ]
  },
  {
   "cell_type": "code",
   "execution_count": 69,
   "metadata": {},
   "outputs": [
    {
     "data": {
      "text/plain": [
       "' Joe Keaton disapproved of films and Buster also had reservations about the medium.'"
      ]
     },
     "execution_count": 69,
     "metadata": {},
     "output_type": "execute_result"
    }
   ],
   "source": [
    "original_transcription"
   ]
  },
  {
   "cell_type": "code",
   "execution_count": 47,
   "metadata": {},
   "outputs": [
    {
     "data": {
      "image/png": "[encoded data removed]",
      "text/plain": [
       "<Figure size 640x480 with 1 Axes>"
      ]
     },
     "metadata": {},
     "output_type": "display_data"
    }
   ],
   "source": [
    "import matplotlib.pyplot as plt\n",
    "plt.bar(np.arange(num_segments), segment_importance)\n",
    "plt.xlabel('Segmento')\n",
    "plt.ylabel('Coeficiente')\n",
    "plt.savefig('./paper/images/slime.png')\n",
    "plt.show()"
   ]
  },
  {
   "cell_type": "code",
   "execution_count": null,
   "metadata": {},
   "outputs": [],
   "source": []
  }
 ],
 "metadata": {
  "kernelspec": {
   "display_name": ".venv",
   "language": "python",
   "name": "python3"
  },
  "language_info": {
   "codemirror_mode": {
    "name": "ipython",
    "version": 3
   },
   "file_extension": ".py",
   "mimetype": "text/x-python",
   "name": "python",
   "nbconvert_exporter": "python",
   "pygments_lexer": "ipython3",
   "version": "3.10.12"
  }
 },
 "nbformat": 4,
 "nbformat_minor": 2
}
