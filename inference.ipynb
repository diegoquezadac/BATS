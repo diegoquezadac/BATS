{
 "cells": [
  {
   "cell_type": "markdown",
   "metadata": {},
   "source": [
    "# Imports"
   ]
  },
  {
   "cell_type": "code",
   "execution_count": 160,
   "metadata": {},
   "outputs": [],
   "source": [
    "from transformers import WhisperProcessor, WhisperForConditionalGeneration, Wav2Vec2Processor, Wav2Vec2ForCTC\n",
    "from datasets import load_dataset, Audio\n",
    "import torch\n",
    "#from jiwer import wer\n",
    "from evaluate import load\n",
    "import librosa\n",
    "import matplotlib.pyplot as plt\n",
    "import numpy as np\n",
    "\n",
    "wer_load = load(\"wer\") #load WER Metric\n",
    "\n",
    "#set seed\n",
    "SEED = 42\n",
    "torch.manual_seed(SEED)\n",
    "np.random.seed(SEED)"
   ]
  },
  {
   "cell_type": "markdown",
   "metadata": {},
   "source": [
    "# Dataset"
   ]
  },
  {
   "cell_type": "markdown",
   "metadata": {},
   "source": [
    "## All Dataset"
   ]
  },
  {
   "cell_type": "code",
   "execution_count": 2,
   "metadata": {},
   "outputs": [],
   "source": [
    "cv_ds = load_dataset(\"mozilla-foundation/common_voice_11_0\", \"en\", split=\"test\")"
   ]
  },
  {
   "cell_type": "markdown",
   "metadata": {},
   "source": [
    "### Resampling to 16khz"
   ]
  },
  {
   "cell_type": "code",
   "execution_count": 3,
   "metadata": {},
   "outputs": [],
   "source": [
    "cv_ds_resampled = cv_ds.cast_column(\"audio\", Audio(sampling_rate=16_000))"
   ]
  },
  {
   "cell_type": "code",
   "execution_count": 4,
   "metadata": {},
   "outputs": [
    {
     "data": {
      "text/plain": [
       "{'path': '/Users/fcisternas/.cache/huggingface/datasets/downloads/extracted/cfa5048bbba7d7c22ca918e45480425dde8f95c9f9dba6658173f7795baec0e8/en_test_0/common_voice_en_27710027.mp3',\n",
       " 'array': array([-1.39698386e-09, -1.39698386e-09, -1.39698386e-09, ...,\n",
       "         7.56168447e-07,  8.44313035e-07,  1.62357173e-06]),\n",
       " 'sampling_rate': 16000}"
      ]
     },
     "execution_count": 4,
     "metadata": {},
     "output_type": "execute_result"
    }
   ],
   "source": [
    "cv_ds_resampled[0]['audio']"
   ]
  },
  {
   "cell_type": "markdown",
   "metadata": {},
   "source": [
    "## Single Example"
   ]
  },
  {
   "cell_type": "code",
   "execution_count": 54,
   "metadata": {},
   "outputs": [],
   "source": [
    "example = cv_ds_resampled[7]"
   ]
  },
  {
   "cell_type": "code",
   "execution_count": 43,
   "metadata": {},
   "outputs": [
    {
     "data": {
      "text/plain": [
       "{'client_id': '001519f234e04528a2b36158c205dbe61c8da45ab0242f8800d6c4c2e9ac6ca76c9e5af86a313ab309f426c44204dfa7d2bb14b37ed565af9c1c6c86943675f9',\n",
       " 'path': '/Users/fcisternas/.cache/huggingface/datasets/downloads/extracted/cfa5048bbba7d7c22ca918e45480425dde8f95c9f9dba6658173f7795baec0e8/en_test_0/common_voice_en_27340672.mp3',\n",
       " 'audio': {'path': '/Users/fcisternas/.cache/huggingface/datasets/downloads/extracted/cfa5048bbba7d7c22ca918e45480425dde8f95c9f9dba6658173f7795baec0e8/en_test_0/common_voice_en_27340672.mp3',\n",
       "  'array': array([ 2.91038305e-11, -1.16415322e-10,  4.36557457e-11, ...,\n",
       "         -3.91066351e-05, -4.22631601e-05, -5.29778117e-05]),\n",
       "  'sampling_rate': 16000},\n",
       " 'sentence': 'It is a busy market town that serves a large surrounding area.',\n",
       " 'up_votes': 2,\n",
       " 'down_votes': 0,\n",
       " 'age': '',\n",
       " 'gender': '',\n",
       " 'accent': '',\n",
       " 'locale': 'en',\n",
       " 'segment': ''}"
      ]
     },
     "execution_count": 43,
     "metadata": {},
     "output_type": "execute_result"
    }
   ],
   "source": [
    "example"
   ]
  },
  {
   "cell_type": "markdown",
   "metadata": {},
   "source": [
    "# Wav2Vec2"
   ]
  },
  {
   "cell_type": "markdown",
   "metadata": {},
   "source": [
    "## single Inference"
   ]
  },
  {
   "cell_type": "code",
   "execution_count": 38,
   "metadata": {},
   "outputs": [
    {
     "name": "stdout",
     "output_type": "stream",
     "text": [
      "Ignored unknown kwarg option normalize\n",
      "Ignored unknown kwarg option normalize\n",
      "Ignored unknown kwarg option normalize\n",
      "Ignored unknown kwarg option normalize\n"
     ]
    },
    {
     "name": "stderr",
     "output_type": "stream",
     "text": [
      "Some weights of the model checkpoint at facebook/wav2vec2-base-960h were not used when initializing Wav2Vec2ForCTC: ['wav2vec2.encoder.pos_conv_embed.conv.weight_v', 'wav2vec2.encoder.pos_conv_embed.conv.weight_g']\n",
      "- This IS expected if you are initializing Wav2Vec2ForCTC from the checkpoint of a model trained on another task or with another architecture (e.g. initializing a BertForSequenceClassification model from a BertForPreTraining model).\n",
      "- This IS NOT expected if you are initializing Wav2Vec2ForCTC from the checkpoint of a model that you expect to be exactly identical (initializing a BertForSequenceClassification model from a BertForSequenceClassification model).\n",
      "Some weights of Wav2Vec2ForCTC were not initialized from the model checkpoint at facebook/wav2vec2-base-960h and are newly initialized: ['wav2vec2.encoder.pos_conv_embed.conv.parametrizations.weight.original1', 'wav2vec2.encoder.pos_conv_embed.conv.parametrizations.weight.original0', 'wav2vec2.masked_spec_embed']\n",
      "You should probably TRAIN this model on a down-stream task to be able to use it for predictions and inference.\n"
     ]
    }
   ],
   "source": [
    "# load model and tokenizer\n",
    "processor = Wav2Vec2Processor.from_pretrained(\"facebook/wav2vec2-base-960h\")\n",
    "model = Wav2Vec2ForCTC.from_pretrained(\"facebook/wav2vec2-base-960h\")"
   ]
  },
  {
   "cell_type": "code",
   "execution_count": 44,
   "metadata": {},
   "outputs": [],
   "source": [
    "# tokenize\n",
    "input_values = processor(example[\"audio\"][\"array\"], sampling_rate= example[\"audio\"]['sampling_rate'], return_tensors=\"pt\", padding=\"longest\").input_values  # Batch size 1"
   ]
  },
  {
   "cell_type": "code",
   "execution_count": 32,
   "metadata": {},
   "outputs": [
    {
     "data": {
      "text/plain": [
       "tensor([[[ 15.2774, -29.4570, -29.1264,  ...,  -7.3897,  -7.6856,  -7.7527],\n",
       "         [ 15.5120, -29.7179, -29.3629,  ...,  -7.6415,  -8.1293,  -7.9722],\n",
       "         [ 15.3720, -29.6300, -29.2653,  ...,  -7.5799,  -8.1160,  -7.9424],\n",
       "         ...,\n",
       "         [ 15.4376, -29.7290, -29.3766,  ...,  -7.4465,  -8.2410,  -7.6630],\n",
       "         [ 15.1762, -29.6147, -29.2642,  ...,  -7.5191,  -8.2697,  -7.7248],\n",
       "         [ 15.2286, -29.5750, -29.2348,  ...,  -7.6091,  -8.2701,  -7.8104]]],\n",
       "       grad_fn=<ViewBackward0>)"
      ]
     },
     "execution_count": 32,
     "metadata": {},
     "output_type": "execute_result"
    }
   ],
   "source": [
    "# retrieve logits\n",
    "logits = model(input_values).logits\n",
    "logits"
   ]
  },
  {
   "cell_type": "code",
   "execution_count": 33,
   "metadata": {},
   "outputs": [
    {
     "data": {
      "text/plain": [
       "tensor([[ 0,  0,  0,  0,  0,  0,  0,  0,  0,  0,  0,  0,  0,  0,  0,  0,  0,  0,\n",
       "          0,  0,  0,  0,  0,  0,  0,  0,  0,  0,  0,  0,  0,  0,  0,  0,  0,  0,\n",
       "          0,  0, 29,  0,  0,  0,  0,  8,  0,  0,  0,  0,  0,  0,  0,  4,  0, 26,\n",
       "          0,  0,  5,  0,  0,  5,  0, 23,  0,  0, 12,  0,  0,  0,  7,  0,  9,  0,\n",
       "          0,  4,  4, 14,  0,  0, 10,  0, 12,  0,  0,  0,  0,  7, 23,  0,  0,  0,\n",
       "         23,  0, 13,  0,  0,  0,  0,  8,  0, 25,  0,  0,  5, 14,  0,  4,  4,  0,\n",
       "          0,  8, 20,  0,  4,  4,  4,  4,  0,  0,  6,  0,  0,  0,  0,  0,  8,  0,\n",
       "          0,  0,  9,  5,  0,  0, 12, 12,  4,  4,  0,  0,  0,  0,  7,  9,  0, 14,\n",
       "          0,  4,  4,  4,  0, 24,  0,  0,  0, 16,  0,  0, 12, 12,  0,  6,  0,  0,\n",
       "          0,  5, 13, 13,  0,  4,  4,  0,  0,  7, 15,  0,  0,  0,  0, 12,  0,  0,\n",
       "          8,  0,  4,  4,  0, 11,  0,  0,  7,  0,  0, 14,  4,  4,  4, 11,  0,  0,\n",
       "          5,  0,  0,  0, 12,  0,  0,  5, 13, 13,  0,  0, 25,  0,  0,  0,  0,  7,\n",
       "          0,  0,  0,  0,  6, 10, 10,  0,  8,  9,  9,  0, 12,  0,  4,  4,  0,  0,\n",
       "          7,  0,  0, 24,  0,  0,  8, 16,  0,  0,  6,  4,  4,  6, 11,  0,  5,  4,\n",
       "          4,  0, 17,  0,  0,  0,  5,  0,  0, 14,  0, 10, 10,  0,  0, 16, 17,  0,\n",
       "          4,  4,  4,  0,  0,  0,  0,  0,  0,  0,  0,  0,  0,  0,  0,  0,  0,  0,\n",
       "          0,  0,  0,  0,  0,  0,  0,  0,  0,  0,  0,  0,  0,  0,  0,  0,  0,  0,\n",
       "          0,  0,  0,  0,  0,  0,  0,  0]])"
      ]
     },
     "execution_count": 33,
     "metadata": {},
     "output_type": "execute_result"
    }
   ],
   "source": [
    "# take argmax and decode\n",
    "predicted_ids = torch.argmax(logits, dim=-1)\n",
    "predicted_ids"
   ]
  },
  {
   "cell_type": "code",
   "execution_count": 34,
   "metadata": {},
   "outputs": [
    {
     "data": {
      "text/plain": [
       "['JO KEEPSAN DISAPPROVED OF TONES AND BUSTER ALSO HAD HESERVATIONS ABOUT THE MEDIUM']"
      ]
     },
     "execution_count": 34,
     "metadata": {},
     "output_type": "execute_result"
    }
   ],
   "source": [
    "transcription = processor.batch_decode(predicted_ids)\n",
    "transcription"
   ]
  },
  {
   "cell_type": "code",
   "execution_count": 35,
   "metadata": {},
   "outputs": [
    {
     "data": {
      "text/plain": [
       "'Joe Keaton disapproved of films, and Buster also had reservations about the medium.'"
      ]
     },
     "execution_count": 35,
     "metadata": {},
     "output_type": "execute_result"
    }
   ],
   "source": [
    "example['sentence']"
   ]
  },
  {
   "cell_type": "markdown",
   "metadata": {},
   "source": [
    "## Eval"
   ]
  },
  {
   "cell_type": "code",
   "execution_count": 7,
   "metadata": {},
   "outputs": [
    {
     "name": "stderr",
     "output_type": "stream",
     "text": [
      "Some weights of the model checkpoint at facebook/wav2vec2-base-960h were not used when initializing Wav2Vec2ForCTC: ['wav2vec2.encoder.pos_conv_embed.conv.weight_g', 'wav2vec2.encoder.pos_conv_embed.conv.weight_v']\n",
      "- This IS expected if you are initializing Wav2Vec2ForCTC from the checkpoint of a model trained on another task or with another architecture (e.g. initializing a BertForSequenceClassification model from a BertForPreTraining model).\n",
      "- This IS NOT expected if you are initializing Wav2Vec2ForCTC from the checkpoint of a model that you expect to be exactly identical (initializing a BertForSequenceClassification model from a BertForSequenceClassification model).\n",
      "Some weights of Wav2Vec2ForCTC were not initialized from the model checkpoint at facebook/wav2vec2-base-960h and are newly initialized: ['wav2vec2.encoder.pos_conv_embed.conv.parametrizations.weight.original0', 'wav2vec2.masked_spec_embed', 'wav2vec2.encoder.pos_conv_embed.conv.parametrizations.weight.original1']\n",
      "You should probably TRAIN this model on a down-stream task to be able to use it for predictions and inference.\n"
     ]
    },
    {
     "name": "stdout",
     "output_type": "stream",
     "text": [
      "Ignored unknown kwarg option normalize\n",
      "Ignored unknown kwarg option normalize\n",
      "Ignored unknown kwarg option normalize\n",
      "Ignored unknown kwarg option normalize\n"
     ]
    }
   ],
   "source": [
    "model = Wav2Vec2ForCTC.from_pretrained(\"facebook/wav2vec2-base-960h\")\n",
    "processor = Wav2Vec2Processor.from_pretrained(\"facebook/wav2vec2-base-960h\")"
   ]
  },
  {
   "cell_type": "code",
   "execution_count": 8,
   "metadata": {},
   "outputs": [],
   "source": [
    "def map_to_pred(batch):\n",
    "    input_values = processor(batch[\"audio\"][\"array\"], sampling_rate=batch[\"audio\"][\"sampling_rate\"], return_tensors=\"pt\", padding=\"longest\").input_values\n",
    "    with torch.no_grad():\n",
    "        logits = model(input_values).logits\n",
    "    predicted_ids = torch.argmax(logits, dim=-1)\n",
    "    transcription = processor.batch_decode(predicted_ids)\n",
    "    batch[\"transcription\"] = transcription\n",
    "    return batch"
   ]
  },
  {
   "cell_type": "code",
   "execution_count": 10,
   "metadata": {},
   "outputs": [
    {
     "name": "stderr",
     "output_type": "stream",
     "text": [
      "Parameter 'function'=<function map_to_pred at 0x2a5de45e0> of the transform datasets.arrow_dataset.Dataset._map_single couldn't be hashed properly, a random hash was used instead. Make sure your transforms and parameters are serializable with pickle or dill for the dataset fingerprinting and caching to work. If you reuse this transform, the caching mechanism will consider it to be different from the previous calls and recompute everything. This warning is only showed once. Subsequent hashing failures won't be showed.\n"
     ]
    },
    {
     "data": {
      "application/vnd.jupyter.widget-view+json": {
       "model_id": "4449d890b19f46ae83f3184d3d7f5313",
       "version_major": 2,
       "version_minor": 0
      },
      "text/plain": [
       "Map:   0%|          | 0/16354 [00:00<?, ? examples/s]"
      ]
     },
     "metadata": {},
     "output_type": "display_data"
    }
   ],
   "source": [
    "result = cv_ds_resampled.map(map_to_pred)"
   ]
  },
  {
   "cell_type": "code",
   "execution_count": 27,
   "metadata": {},
   "outputs": [],
   "source": [
    "preds_list = [result['transcription'][i][0] for i in range(len(result['transcription']))]"
   ]
  },
  {
   "cell_type": "code",
   "execution_count": 31,
   "metadata": {},
   "outputs": [
    {
     "name": "stdout",
     "output_type": "stream",
     "text": [
      "WER: 1.0358907978347847\n"
     ]
    }
   ],
   "source": [
    "print(\"WER:\", wer_load.compute(references=result[\"sentence\"], predictions=preds_list))"
   ]
  },
  {
   "cell_type": "markdown",
   "metadata": {},
   "source": [
    "# Whisper"
   ]
  },
  {
   "cell_type": "markdown",
   "metadata": {},
   "source": [
    "## Single Inference"
   ]
  },
  {
   "cell_type": "code",
   "execution_count": 50,
   "metadata": {},
   "outputs": [],
   "source": [
    "# load model and processor\n",
    "processor = WhisperProcessor.from_pretrained(\"openai/whisper-tiny\")\n",
    "model = WhisperForConditionalGeneration.from_pretrained(\"openai/whisper-tiny\")\n",
    "model.config.forced_decoder_ids = None"
   ]
  },
  {
   "cell_type": "code",
   "execution_count": 88,
   "metadata": {},
   "outputs": [],
   "source": [
    "input_features = processor(example[\"audio\"][\"array\"], sampling_rate=example[\"audio\"][\"sampling_rate\"], return_tensors=\"pt\").input_features "
   ]
  },
  {
   "cell_type": "code",
   "execution_count": 89,
   "metadata": {},
   "outputs": [
    {
     "data": {
      "text/plain": [
       "tensor([[[-0.7811, -0.7811, -0.7811,  ..., -0.7811, -0.7811, -0.7811],\n",
       "         [-0.7811, -0.7811, -0.7811,  ..., -0.7811, -0.7811, -0.7811],\n",
       "         [-0.7811, -0.7811, -0.7811,  ..., -0.7811, -0.7811, -0.7811],\n",
       "         ...,\n",
       "         [-0.7811, -0.7811, -0.7811,  ..., -0.7811, -0.7811, -0.7811],\n",
       "         [-0.7811, -0.7811, -0.7811,  ..., -0.7811, -0.7811, -0.7811],\n",
       "         [-0.7811, -0.7811, -0.7811,  ..., -0.7811, -0.7811, -0.7811]]])"
      ]
     },
     "execution_count": 89,
     "metadata": {},
     "output_type": "execute_result"
    }
   ],
   "source": [
    "input_features"
   ]
  },
  {
   "cell_type": "code",
   "execution_count": 38,
   "metadata": {},
   "outputs": [
    {
     "data": {
      "text/plain": [
       "tensor([[50258, 50259, 50359, 50363,  6807,  3189, 25781,  4518,   340,   937,\n",
       "           295,  7796,   293,   363,  8393,   611,   632, 40222,   466,   264,\n",
       "          6399,    13, 50257]])"
      ]
     },
     "execution_count": 38,
     "metadata": {},
     "output_type": "execute_result"
    }
   ],
   "source": [
    "# generate token ids\n",
    "predicted_ids = model.generate(input_features)\n",
    "predicted_ids"
   ]
  },
  {
   "cell_type": "code",
   "execution_count": 40,
   "metadata": {},
   "outputs": [
    {
     "data": {
      "text/plain": [
       "['<|startoftranscript|><|en|><|transcribe|><|notimestamps|> Joe Keaton disapproved of films and Buster also had reservations about the medium.<|endoftext|>']"
      ]
     },
     "execution_count": 40,
     "metadata": {},
     "output_type": "execute_result"
    }
   ],
   "source": [
    "# decode token ids to text\n",
    "transcription = processor.batch_decode(predicted_ids, skip_special_tokens=False)\n",
    "transcription"
   ]
  },
  {
   "cell_type": "code",
   "execution_count": 41,
   "metadata": {},
   "outputs": [
    {
     "data": {
      "text/plain": [
       "[' Joe Keaton disapproved of films and Buster also had reservations about the medium.']"
      ]
     },
     "execution_count": 41,
     "metadata": {},
     "output_type": "execute_result"
    }
   ],
   "source": [
    "transcription = processor.batch_decode(predicted_ids, skip_special_tokens=True)\n",
    "transcription"
   ]
  },
  {
   "cell_type": "code",
   "execution_count": 39,
   "metadata": {},
   "outputs": [
    {
     "data": {
      "text/plain": [
       "'Joe Keaton disapproved of films, and Buster also had reservations about the medium.'"
      ]
     },
     "execution_count": 39,
     "metadata": {},
     "output_type": "execute_result"
    }
   ],
   "source": [
    "example['sentence']"
   ]
  },
  {
   "cell_type": "markdown",
   "metadata": {},
   "source": [
    "## Eval"
   ]
  },
  {
   "cell_type": "code",
   "execution_count": 4,
   "metadata": {},
   "outputs": [],
   "source": [
    "processor = WhisperProcessor.from_pretrained(\"openai/whisper-tiny\")\n",
    "model = WhisperForConditionalGeneration.from_pretrained(\"openai/whisper-tiny\")"
   ]
  },
  {
   "cell_type": "code",
   "execution_count": 102,
   "metadata": {},
   "outputs": [],
   "source": [
    "def map_to_pred(batch):\n",
    "    audio = batch[\"audio\"]\n",
    "    input_features = processor(audio[\"array\"], sampling_rate=audio[\"sampling_rate\"], return_tensors=\"pt\").input_features\n",
    "    batch[\"reference\"] = processor.tokenizer._normalize(batch['sentence'])\n",
    "\n",
    "    with torch.no_grad():\n",
    "        predicted_ids = model.generate(input_features)[0]\n",
    "    transcription = processor.decode(predicted_ids)\n",
    "    batch[\"transcription\"] = processor.tokenizer._normalize(transcription)\n",
    "    return batch"
   ]
  },
  {
   "cell_type": "code",
   "execution_count": 6,
   "metadata": {},
   "outputs": [
    {
     "data": {
      "application/vnd.jupyter.widget-view+json": {
       "model_id": "ec6df6282a834e90992976db1438e44d",
       "version_major": 2,
       "version_minor": 0
      },
      "text/plain": [
       "Map:   0%|          | 0/16354 [00:00<?, ? examples/s]"
      ]
     },
     "metadata": {},
     "output_type": "display_data"
    }
   ],
   "source": [
    "result = cv_ds_resampled.map(map_to_pred)"
   ]
  },
  {
   "cell_type": "code",
   "execution_count": 7,
   "metadata": {},
   "outputs": [
    {
     "data": {
      "text/plain": [
       "['joel keaton disapproved of films and buster also had reservations about the medium',\n",
       " 'she would be alright',\n",
       " '6',\n",
       " 'all as well that ends well',\n",
       " 'it is a busy market town that serves a large surrounded area',\n",
       " 'the team had all of the champion kero leda madden and this quad for this season',\n",
       " 'do you mean it',\n",
       " 'the new patch is less invasive than the whole one still causes regression',\n",
       " 'how is most of you are going to handle and be with this thank you and q',\n",
       " 'we shall see you in the next one',\n",
       " 'no one near the remote machine you could ring',\n",
       " 'soss for the goose is sass for the gonder',\n",
       " 'gramps is thought of writing songs when she was 4 years old',\n",
       " 'even kerm mike schula was the former h good at alabama',\n",
       " 'the response was that the ball did not appoint individual officers',\n",
       " 'the long lived bridge till stands today',\n",
       " 'there was nothing to work between that except himself',\n",
       " 'the meat processing and construction industries would be allowed to operate with radio spersonal',\n",
       " 'coles branch is underlade by the deep river basin',\n",
       " 'we spoke of him',\n",
       " 'he was protestant',\n",
       " 'we do the operation with the puzzle',\n",
       " 'a ladder on the fire truck was not long enough',\n",
       " 'i will tell her what we decided',\n",
       " 'these and the other leaders are advised and supported by the adult leaders',\n",
       " 'hello this one is a long period long to the place of course the last one has to be a good opportunity to come',\n",
       " 'good things can be smooth packages',\n",
       " 'bones is studying chemical engineering at the university college of w',\n",
       " 'it is a member theater of the union of the theaters of europe',\n",
       " 'all 3 battalions were equipped with captured fringe tanks',\n",
       " 'you want to take this outside',\n",
       " 'she joined the k patrol line and patrol off uttalaska island',\n",
       " 'the immersion in hot water also kills the sick one',\n",
       " 'she married her business partner stephen lee',\n",
       " 'that it take on your road server of our stream our senior administrator',\n",
       " 'do you want me',\n",
       " 'that would be funny if he did',\n",
       " '8 national paralembec committee kota is and 3 individual athlete kota is were secured',\n",
       " 'although she had flowers and applause maybe said she was not content',\n",
       " 'add the column and put the sum here',\n",
       " 'they perfectly illuminate the flower beds of gardens',\n",
       " 'he mentioned was usually written in one square',\n",
       " 'alston commented that you felt the cartoonist might have had some racial intent',\n",
       " 'it is a trick clock and the shippaga and the most western world world',\n",
       " 'during the hands down it is a lot of practice to learn',\n",
       " 'man in relative shit and baseball cap viewed from above he is has a pile of postures',\n",
       " 'the 2 films were then released within one day each other',\n",
       " 'what did he say his name was asked to the captain',\n",
       " 'he has german ancestry from his paternal side',\n",
       " 'yes',\n",
       " 'i am going to get a couple of tools',\n",
       " 'after experiencing a mind blowing sensual origin mike will surely take an elaborate dose',\n",
       " 'religious festivals include the mazlong eats and the christian christmas and easter',\n",
       " 'what are you advice sir',\n",
       " 'charles looked on i angry that there was nothing he could do',\n",
       " 'she had more personal exhibitions and participated in group exhibitions as well',\n",
       " 'the money fits to mid apparence in philosophical changes that abbot has undergone',\n",
       " 'she was also appointed the owner easily distinguished professor of medicine',\n",
       " 'karina is good enough of dancing with the stars hosted the following month',\n",
       " 'it is inhibited by the pneumotoxic center',\n",
       " 'his white green and many friends',\n",
       " 'and important person in life in the place was the hindu jhin montegi',\n",
       " 'in the united states federal vehicle fleets refer to the federal government is vehicles',\n",
       " 'it was won by a warman for long but swear they do',\n",
       " 'the frames are then delivered to the customers',\n",
       " 'in spite of this i still live that there were men in mars',\n",
       " 'the lamb is field has to be in some other way to eat',\n",
       " 'the trends of not in clay were on the floor',\n",
       " 'i thought we were going to relive this and how can we relive this i am going to relive this i am going to relive this i am going to relive this i am going to relive this i am going to relive this i am going to relive this i am going to relive this i am going to relive this i am going to relive this i am going to relive this i am going to relive this i am going to relive this i am going to relive this i am going to relive this i am going to relive this i am going to relive this i am going to relive this i am going to relive this i am going to relive this i am going to relive this i am going to relive this i am going to relive this i am going to relive this i am going to relive this i am going to relive this i am going to relive this i am going to relive this i am going to relive this i am going to relive this i am going to relive this i am going to relive this i am going to relive this i am going to relive this i am going to relive this i am going to relive this i am going to relive this i am going to relive this i am going to relive this i am going to relive this i am going to relive this i am going to relive this i am going to relive this i am going to relive this i am going to relive this i am going to relive this i am going to relive this i am going to relive this i am going to relive this i am going to relive this i am going to relive this i am going to relive this i am going to relive this i am going to relive this i am',\n",
       " 'i pointed out mars a bright dot of light',\n",
       " 'he ended up running to the bars which fortified the windows of the 1st floor',\n",
       " 'i know why i want to get back to my vlog he thought',\n",
       " 'mainly notable problem in the study composers are also international judges including gendrich kasparja',\n",
       " 'many of the sporting characters present and unflattering portrayal of colonial life in virginia',\n",
       " 'you shall see the other guy specifically how good that viking is',\n",
       " 'he is involved with american and italian descent',\n",
       " 'that is not carson spinks',\n",
       " 'some rules of thumb are also accepted in the codes',\n",
       " 'laurence is listed as a swiss heritage site of national significance',\n",
       " 'i have never in life hit a tennis ball',\n",
       " 'the warehouses of mega polis ukraine in 60s were blocked by activists',\n",
       " 'he is the 1st known and anticipated member of the gemini is',\n",
       " 'lion rock is located northwest of wontai singh',\n",
       " 'i would best to be a great western friend who was broken',\n",
       " 'her father is sure to inherit',\n",
       " 'we should not take for granted fortunately we have been',\n",
       " 'tap the core and up to 2 minutes',\n",
       " 'the farmer works the soil and produces grain',\n",
       " 'since i have gotten a dog the regular visits of the fox have stopped',\n",
       " 'his speech ended with a standing ovation',\n",
       " '8',\n",
       " 'the reserve is in pristine condition with almost no human habitations',\n",
       " 'the wind told me that you know about love the boy said to the sun',\n",
       " 'jails begin playing gas trumpet but everyone sure they should check to blues guitar',\n",
       " 'this is the context in which the friend begins',\n",
       " 'these qualities make her beloved by her hometown',\n",
       " 'the little pink ones are so cute',\n",
       " 'the students colored with their crayons',\n",
       " 'it seems to him that self chompting if about one point of miles is here',\n",
       " 'as such it is they are beautiful but with irregular face polygons',\n",
       " 'yours here are rough',\n",
       " 'it took the course of and ended up to the mark',\n",
       " 'he is a right handed bedspin and the left arm is slow bowler',\n",
       " 'kador is also sad to be a roman stock',\n",
       " 'where will you go',\n",
       " 'only john went himself to ask mac blurth in silence in his own',\n",
       " 'it was opened and july of that year',\n",
       " 'the wrestling is a talented fan manager she works in vienna',\n",
       " 'they were eliminated in the 4th episode',\n",
       " 'mewonison means near the island',\n",
       " 'the owner of the dwelling was not amused',\n",
       " 'all of this activity in milwaki was in norway in lake',\n",
       " 'we will unbox the poet also lived in starbister newtod',\n",
       " 'if you want some hotly gone proof i suggest indonesian',\n",
       " 'so glad to see you',\n",
       " 'corn cockle is an attractive plant and its seeds are still commercially available to gardeners',\n",
       " 'the audio they auto is headed by its governor as the chief executive',\n",
       " 'the swedish actress annanoi instructed her in drama',\n",
       " 'thank you very much',\n",
       " 'agni agrees to let togh geda film is revenge on doma and exchange for training',\n",
       " 'what was he like',\n",
       " 'look you will leave a data cutting pin to straighten the bulletproof vest',\n",
       " 'like every body learns you say',\n",
       " 'this has become a bit of a cold in romania',\n",
       " 'these other film roles include who done it',\n",
       " 'how often has the train be late',\n",
       " 'it is currently a member of the investment bank effortries while the senior act of the free board',\n",
       " 'we appreciate the popularity in public opinion policy for the t shainscarter like a pay',\n",
       " 'she was the 1st women senator to die and',\n",
       " 'where is this then',\n",
       " 'always ask a objective question',\n",
       " 'i think i am just being done with this',\n",
       " 'people from all over have come to test it is beer stew',\n",
       " 'more discussion is needed on how it will be financed',\n",
       " 'i will show you the room in the pink scarf pears out of the top of the vehicle',\n",
       " 'passive surveillance is often incomplete because of the limited reporting incentives',\n",
       " 'princess phyllis herself also contributed personally to the construction of the temple',\n",
       " 'and value refers to a convincing astronomer',\n",
       " 'he became chief of the army personnel department',\n",
       " 'i can not work for the rest of the day the boy answered it',\n",
       " 'i would like to order some cinnamon pretzels please',\n",
       " 'the boy was also saddened his friend was in pursuit of his destiny',\n",
       " 'woman form less than half of the group',\n",
       " 'man play football as a crowd watches',\n",
       " 'how about one more round back',\n",
       " 'it is possible that they were underrated',\n",
       " 'we go on and on',\n",
       " 'but genus name is given in honor queen victoria of unallik kingdom',\n",
       " 'a song egal amaid',\n",
       " 'nick flynn was reached by his mother in citrate massachusetts as a suburb of boston',\n",
       " 'these plants are hermaphroditic',\n",
       " 'local branches towards la vaca where primarily angust in public education and culture activities',\n",
       " 'the current representative for the district is democrats karen power of milwaukee',\n",
       " 'the major industry has been slate mining',\n",
       " 'today is signature fly to support service is private air captain sarah',\n",
       " 'this process is intense and often lengthy',\n",
       " 'he also was the elected senator of kuzistan',\n",
       " 'they are done at years with a laundry tube but that is all',\n",
       " 'all more immigrated to the united states from france and so it acts as an occupation',\n",
       " 'what can they approve is that',\n",
       " 'the crew also activated one group of the payload be getaways special experiments',\n",
       " 'there are special things',\n",
       " 'they had a lot to do with this',\n",
       " 'the also supports landscape orientation and multiple type faces',\n",
       " 'they displaced at normal load and at deep load',\n",
       " 'every day was there to be live art to march along the march here from this world',\n",
       " 'let us go to arba',\n",
       " 'potato grips are thinly sliced fried potatoes eaten as a snack',\n",
       " 'the movie white christmas also started being cries being daniel kay',\n",
       " 'this staircase survives in the swamp with a little bit of a bit of a bit of a bit of a bit of a bit of a bit of a bit of a bit of a bit of a bit of a bit of a bit of a bit of a bit of a bit of a bit of a bit of a bit of a bit of a bit of a bit of a bit of a bit of a bit of a bit of a bit of a bit of a bit of a bit of a bit of a bit of a bit of a bit of a bit of a bit of a bit of a bit of a bit of a bit of a bit of a bit of a bit of a bit of a bit of a bit of a bit of a bit of a bit of a bit of a bit of a bit of a bit of a bit of a bit of a bit of a bit of a bit of a bit of a bit of a bit of a bit of a bit of a bit of a bit of a bit of a bit of a bit of a bit of a bit of a bit of a bit of a bit of a bit of a bit of a bit of a bit of a bit of a bit of a bit of a bit of a bit of a bit of a bit of a bit of a bit of a bit of a bit of a bit of a bit of a bit of a bit of a bit of a bit of a bit of a bit of a bit of a bit of a bit of a bit of a bit of a bit of a bit of a bit of a bit of a bit of a bit of a bit of a bit of a bit of a bit of a bit of a bit of a bit of a bit of a bit of a bit of a bit of a bit of a bit of a bit of a bit of a bit of a bit of a bit of a bit of a bit of a bit of a bit of a bit of a bit of a bit of a bit of a bit of a bit of a bit of a bit of a bit of a bit of a bit of a bit of a bit of a bit of a bit of a bit of a',\n",
       " 'only 6 of the plan 10 episodes were produced',\n",
       " 'we are king tim nordest',\n",
       " 'tovels means rulers to shape the channel delete and the final double seed',\n",
       " 'throughout the entire day we will be on the lookout for our enemies',\n",
       " 'the palace was rebuilt with the same stones',\n",
       " 'it was not played in the coal industry before a streaming office',\n",
       " 'the video is to photograph these mostly flat',\n",
       " 'plastic surgery has become more popular',\n",
       " 'that jacket represents the north wakes',\n",
       " 'but you are joking',\n",
       " 'there is a regional part of the hospital r now and the ministry of foreign affairs the local foundation',\n",
       " 'see wanted to do penance',\n",
       " 'with no weapons the only attack option open to him was aerial reming',\n",
       " 'it was in 6800 on the lord and tenant in chief was shattersbury gabby',\n",
       " 'after being coach he held other functions within dutch speed skating',\n",
       " 'that is korean is do not provide heavy feet but',\n",
       " 'it was a tent like many ethio accessions',\n",
       " 'thank you',\n",
       " 'rose mary was born in uganda and she attended local primary and secondary schools',\n",
       " 'this blurry tomography does not help me a lot with the diagnosis',\n",
       " 'sunburn can be avoided by applying sunscreen or by staying in the shadows',\n",
       " 'folds on the other hand can occur only while the ball is in the play',\n",
       " 'in pure vacuum some weak is scattered on light by light exists as well',\n",
       " 'since living of this here is a 3rd and number of other events of the genica',\n",
       " 'fatima the girl said aborting her eyes',\n",
       " 'you',\n",
       " 'see you also journalist at the university of california at berkeley',\n",
       " 'still waters run deep',\n",
       " 'the university is a member of several organizations of colleges and universities',\n",
       " 'these charms have a melosound',\n",
       " 'no one has ever done it before',\n",
       " 'what game do you want to play',\n",
       " 'the completed children conduct is known as a childal body',\n",
       " 'it is shape and coloration is reminiscent of a brown trout',\n",
       " 'maybe the church with the sickum are growing from a thin have been haunted',\n",
       " 'she also is a faculty member at the time of lord meusic center',\n",
       " 'there are 3 amino acid residues responsible for this g t m phase transition',\n",
       " 'i will go right after it',\n",
       " 'you need to note that your own custom environment',\n",
       " 'it has ornamental vigas',\n",
       " 'and awesome picture of a young woman jumping in the air',\n",
       " 'sure see you beer',\n",
       " 'he was mayor of palermo for 3 months',\n",
       " 'cana is taught playing hockey for the other one of site is an argentine',\n",
       " 'such domain names are often linked to news and current events',\n",
       " 'some concurrent programming models include core processes and deterministic concurrency',\n",
       " 'yes',\n",
       " 'some songs are worth the wreckage',\n",
       " 'bye',\n",
       " 'halkholiks may also require treatment for other psychotropic drug addictions and drug dependence',\n",
       " 'this convention is a natural',\n",
       " 'he was awarded the order of the red star',\n",
       " 'so he just needed to chose the rf for opening open for preservation',\n",
       " '3',\n",
       " 'the final medal tali was led by host vietnam followed by thylen and indonesia',\n",
       " 'the tea was a little bit too hot',\n",
       " 'sisters kimberly and tiffany and bertha ryan',\n",
       " 'clams are small rounds of intensity',\n",
       " 'this song was composed in sufi genre',\n",
       " 'it continues as a tone light until it is done and your son',\n",
       " 'i am going to change the position',\n",
       " 'thailand turned out to be a very satisfying holiday',\n",
       " 'the series writers included megavan danny burplest and his knatter and sean dugger',\n",
       " 'the tower block picture is the south face of k stral house on cd road london',\n",
       " 'i think we want to get that power and never believe you followed from the power of humanity earlier',\n",
       " 'on the eastern and opposite of the road of the ketobloss harmony',\n",
       " 'more is found fame relatively late in life',\n",
       " 'arizona republicans state senator karen johnson joined the protest in support',\n",
       " 'light and load for a horse',\n",
       " '0',\n",
       " 'this would indicate an activation of specific activity in the sea of marmara',\n",
       " 'following his last civil war is enenchant room',\n",
       " 'pronatal disk is slightly opaciderm',\n",
       " 'originally it was a 6 leven bus for a motorized clip',\n",
       " 'i am not too far ahead',\n",
       " 'the most successful athletic program is wrestling',\n",
       " 'yoniko snikaya is clenched the shopping chip by winning the regular season',\n",
       " 'at these dimensions it is large enough to be seen from space',\n",
       " 'the internet is built upon many protocols which complement each other perfectly',\n",
       " 'for the end of the world',\n",
       " 'finally the beatles began playing at the jack on occasiones',\n",
       " '20 down down is all up',\n",
       " 'his grandmother diana davidson was one of the 1st female racing drivers in australia',\n",
       " 'it worked closely with the general federation of the municipal administration',\n",
       " 'if you are so studied photography at the past and school of art and design in paris',\n",
       " 'drake group up in texas',\n",
       " 'shoot later time phase after equals phase time',\n",
       " 'randsome is restaurant will lower the corner of the panels and clamps hold them together',\n",
       " 'he is so focused specialized in 7 light bright cases',\n",
       " 'this desert was once a sea he said',\n",
       " 'it included a new production of passion directed by jamie lloyd',\n",
       " 'a handsome shoe often pinches the foot',\n",
       " 'he voyaged on a ship called the beagle',\n",
       " 'i can reassure you that we will not retreat until the oil until the piece is secured',\n",
       " 'initially he joined the north borneon use as a reporter',\n",
       " 'heartings is one of 10 children',\n",
       " 'inako accompanies her as they tail the group to collect evidence',\n",
       " 'his father and brother will marry after selection',\n",
       " 'another reason i was struck by lightning which started fire',\n",
       " 'and the big persian knew of his existence before he did of hers',\n",
       " 'he previously played a bolston call of',\n",
       " 'he delights in quoting and adapting literature to describe his experiences',\n",
       " 'but after new silent judas pitching on this clue was in serious jeopardy',\n",
       " 'so be said he is going to see you he is x y',\n",
       " 'i can reassure you that we will not retreat until the piece is cured',\n",
       " 'i do not blame you',\n",
       " 'please jump up and turn to clear to face image and terror screaming get back',\n",
       " 'he is reserved and serious which is a further mark of respectability',\n",
       " 'if you remember i am the last of my claim i am the adcoper of the online protein',\n",
       " 'but dad is a republican',\n",
       " 'red i never committed a more outrageous deed',\n",
       " 'good playground have more shrim off to upper than streams and slides',\n",
       " 'they had also seen one european who apparently was content not to leave',\n",
       " 'the regional means neglected by the state government and the district administration',\n",
       " 'newborn fenders portraits are reported to in length',\n",
       " 'no changes permissible in regards to festivals and dates',\n",
       " 'it also has a visitor center and an interpretive exhibit',\n",
       " 'it was also the site of several civil strife and labor conflicts',\n",
       " 'sorry the test period expired',\n",
       " 'and it is a 6 minute video',\n",
       " 'he held off his self capten of royal company of artists',\n",
       " 'as the player grows closer to pikachu more activities become available',\n",
       " 'however there are some issues that came out through color to celebrate certain universities',\n",
       " 'it is private property and not open to the public',\n",
       " 'the forest borne for 13 days',\n",
       " 'and can drive in and prosper the time this way',\n",
       " 'i accuse this man of being a faker',\n",
       " 'there was a loud free from a woman standing behind us',\n",
       " 'neither the she appear in the ordinary survey member for carac burgers',\n",
       " 'the prototype was converted into a factory fire engine for the pujo plan',\n",
       " 'he also wrote in the daily newspaper el watan',\n",
       " 'it is not dilemma',\n",
       " 'home is where the hat is',\n",
       " 'his hands began to tremble and the woman sensed it',\n",
       " 'the taoist school system is united with neighboring born in the world island',\n",
       " 'they sometimes have a central train which sum up the strain they are based on',\n",
       " 'you might hear a lot of families more than fake things even though they can be the same thing',\n",
       " 'and men will try to bear this writing in a book while 2 women look on',\n",
       " 'rudenker was the follower of paul broker is french school of anthropology',\n",
       " 'he was also involved in mysticism',\n",
       " 'black part life of chess',\n",
       " 'k dining tourism is generally serviced by specialists dive guides and instructors',\n",
       " 'she grew up singing in church in streetwals',\n",
       " 'charlie was now alone',\n",
       " 'he secondary studied at hugh nann provincial 1st high school',\n",
       " 'i wrote my bachelor thesis with latex',\n",
       " 'i have stuck it back to where',\n",
       " 'this is the most important thing in life',\n",
       " 'it is a musically bus tumpling world',\n",
       " 'the clean mary saltor sit holes appear to show 5',\n",
       " 'her husband joined with her in establishing a law firm together',\n",
       " 'we use this by obscuring the reflector with a mass containing vertical slits',\n",
       " '3 people were killed in the attack',\n",
       " 'further there is no mention of the comet in chinese literature of the chinese',\n",
       " 'the front is easier lower than the following',\n",
       " 'he was born at landburg on the lish',\n",
       " 'happy new year',\n",
       " '0 so that is the situation',\n",
       " 'shubed later be promoted to captain',\n",
       " 'thank you very much for watching',\n",
       " 'force to her diet approximately 3 weeks in her lab',\n",
       " 'the win was one of only 2 forces sent in this man season',\n",
       " 'the plastic barrier is shattered',\n",
       " 'this song was meant to make the general public aware of heroes',\n",
       " 'it will seem early in the morning russian or east war',\n",
       " 'it is found in the indian subcontinent china and southeast asia',\n",
       " 'getting to play someone as unrestricted as vampire is a thrill she says',\n",
       " 'a man holding a newborn baby and a blue pink and white black',\n",
       " 'one week later she was released after successfully appealing her arrest',\n",
       " 'profire now enjoys national and international renal',\n",
       " 'and re image pull at way and way but back to the floor or check the time',\n",
       " 'at the bottom we clean the garden and wooden show it continues as many as the room',\n",
       " 'she must have noted the order of epidate',\n",
       " 'let me have the desk',\n",
       " 'he fled but only got as far as grinich before being captured',\n",
       " 'the castle is of the multi ambileteu',\n",
       " 'wisdom is the worth of the wise',\n",
       " 'the old man said nothing',\n",
       " 'a photo sits at the side clutch in more hours',\n",
       " 'you do it',\n",
       " 'the quicker both jumped on the sleeping cat',\n",
       " 'all winners are highlighted',\n",
       " 'so it increased the size of the council by one seat',\n",
       " 'this following tutoring without internet connection and has a swarm of followers',\n",
       " 'he is a current manager of saudi pro league club abha',\n",
       " 'in this game write your power to friendly pieces',\n",
       " 'he also proposes giving some merit into the government although gareth and hesitates on it',\n",
       " 'as messina departed nesia is tale became trapped on their aboulder',\n",
       " 'the north of the site is the sierra de godlupen',\n",
       " 'he played for the youth categories on free ale betis',\n",
       " 'eat to a droplet of blood',\n",
       " 'these expectations are never happening',\n",
       " 'bill decided that management should not block this incident',\n",
       " 'the appearance of the 4 meter spanish calions inspired panic among the dark sabers',\n",
       " 'the oldest purpose for ring the theory can take open strings as it was taught one string theory',\n",
       " 'efficiency',\n",
       " 'he was a member of the world economic forum in deos',\n",
       " 'except from the last 2 other energies and when basically we are going to do the',\n",
       " 'we let the lantern walk over to his house',\n",
       " 'where did you come from',\n",
       " 'this labic immigrants come to bohemia with excellent cigar making skills',\n",
       " 'to our own school to our own school mind',\n",
       " 'the bird is a bird the bird is a bird',\n",
       " 'rhinahart and his 2 daughters reside in the landpath neighborhood of downtown sacramento',\n",
       " 'the test river is one of the rivers that has changed over the years',\n",
       " 'the city is therefore well defended by steep slopes to the north east and west',\n",
       " 'these sulfide sulfates can be made by at least 3 methods',\n",
       " '2',\n",
       " 'i have seen the pc that the computer has done in the performance',\n",
       " 'he started his political career with the membership of triple youth federation',\n",
       " 'grann that will go into a wealthy family in the horrid present day back today',\n",
       " 'we do not want him',\n",
       " 'stone completed her undergraduate degree in biology and archeology</span> at the university of virginia',\n",
       " 'but david not david',\n",
       " 'her research considers quantum simulation an ultra cold atomic gases trapped in optical lattices',\n",
       " 'the south of the south was restored with stones and bricks',\n",
       " 'but that was simply because my eye was tired',\n",
       " 'it is also known as bale canyon road',\n",
       " 'he also received numerous awards for his walk',\n",
       " 'during that period mercedes also developed a streamlined car with monocop construction',\n",
       " 'goodbye i said the boy',\n",
       " 'she attended lawful at high school in madison',\n",
       " 'what or you see is the difference between a language and a dialect',\n",
       " 'i have one that you knew if it is not for those measuring kits',\n",
       " 'it has been recorded prior to walk late and commonly leaving the group',\n",
       " 'now we are saved pretty quickly from several new species',\n",
       " 'at one point there were 70 boys',\n",
       " 'no what it is nice to meet you',\n",
       " 'do you need a weapon a production not being used',\n",
       " 'our opponent is concealer a real thing',\n",
       " 'philip then tells his parents that he was suspended for singing the national anthem',\n",
       " 'mustard keyn was officially married 3 times',\n",
       " 'the sea has lived on in this show because that is destiny',\n",
       " 'mostly just the hearts of those who are trying to realize their destiny',\n",
       " 'sherbrook wished the group the best and said he was happy for their success',\n",
       " 'projection boomer at 10 and 10 atl classes there',\n",
       " 'you',\n",
       " 'his father was madhai',\n",
       " '4 4 4 4',\n",
       " 'atlas cinema hosted selected films during the annual international istanbul film festival',\n",
       " 'he was arrested within days placed on trial and found guilty',\n",
       " 'every source begins with beginner is flock',\n",
       " 'production assistance on women is or sometimes attached to individual actors or filmmakers',\n",
       " 'it was later revealed that the letter was pranked concotted by the exile',\n",
       " 'the optimist followed as the boys who are srenned for almost half an hour',\n",
       " 'there are 7 or 8 stem ends and 2 stem inodes arranged around the 2 carbo is',\n",
       " 'where are the others',\n",
       " 'he postulated a dispersion theory before his coworker made his discovery and announcement',\n",
       " 'silverstone needed to meditate to clear his mind',\n",
       " 'olivia have you seen my keys',\n",
       " 'the borough council is man office is at cover to business park in walsend',\n",
       " 'it tends to dominate the planned communities where specific habitat requirements are met',\n",
       " 'if you know your art well it will never be dangerous to you',\n",
       " 'hey',\n",
       " 'she was part of the team that came 5th in the final',\n",
       " 'we learned to quit the land and come from his father',\n",
       " 'although everything should be under the states control there is a lot of violence in prison',\n",
       " 'that is a sum for the money that you bring to our big',\n",
       " 'the green match has not been an ordinary match',\n",
       " 'no single for a rich man who released from the album',\n",
       " 'according to the catholic doctrine the baby may not be killed',\n",
       " 'these limits are served as a direct general of bangladesh agriculture research in such a way',\n",
       " 'at least 41 protestors were killed in the muting in the room',\n",
       " 'mining exploration has increased the prevalence of invasive species in its habitat',\n",
       " 'it was my fear of failure that 1st kept me from attempting the master work',\n",
       " 'once these roots reach the ground they grow into woody chunks',\n",
       " 'even sport in the pacific',\n",
       " '2 years later online publication extended to include the full text of all articles',\n",
       " 'are the consequences more humanistic or anti humanistic',\n",
       " 'while a simple card is made by her sold only for ¢5',\n",
       " 'the chimney and the area around it was recently refurbished following years of netflix',\n",
       " 'do you join the band during the encore',\n",
       " 'lenox kills the 2 agents in informs dallesal that he also kidnapped her',\n",
       " 'olivia coleman a purin reapisot as lily',\n",
       " 'miriam max will produce the film',\n",
       " 'the wound healed faster than anyone expected',\n",
       " 'next class with the hungarian authorities over his actions who is more than prohibited',\n",
       " 'east connect high school is located in hohark',\n",
       " 'from a various day went out to find other churches in school',\n",
       " 'he was also one of the founders of taxicawile company',\n",
       " 'how do i feel',\n",
       " 'you cannot eat the cake and have it too',\n",
       " 'in his teens would cover artists including taylor swift and the weekend',\n",
       " 'in canada the sport the world of europe is a new world of france',\n",
       " 'abit when he was the born and brought up in dakabangu',\n",
       " 'it has been presenting our subscribers',\n",
       " 'the center portion of the dam has since been demolished and the reservoir trained',\n",
       " 'did you know that harry got a new job',\n",
       " 'i hope you are well',\n",
       " 'i have never seen here before',\n",
       " 'the club is the 1st non government owned professional baseball club in china',\n",
       " 'to stuffing to their own buckets',\n",
       " 'silence is golden',\n",
       " 'somebody threw him off a train',\n",
       " 'he held a large number of business appointments',\n",
       " 'cut your code according to the calls',\n",
       " 'i have an italian occupation',\n",
       " 'the grill dropped the container and the water spilled',\n",
       " 'it was occupied by the officers below the rank of lieutenant',\n",
       " 'he was twice elected to the office of art bishop of columbia',\n",
       " 'guess performances took us on all over europe and to south america',\n",
       " 'there is no support for weighing aspect ratios or force width by controllers',\n",
       " 'the town was named after this managed company for number',\n",
       " 'in this however usually addressed as lord stern or a lord stern i will print for it',\n",
       " 'they buy a hand used illegal substances before the killing',\n",
       " 'ourum plats is a real estate arm of ourum ventures',\n",
       " 'for better physical understanding let us 1st recap where the pivot point is',\n",
       " 'mark which please give me the fly swatter',\n",
       " 'he and his family went up north to the arctic circle to meet the clouds in finland',\n",
       " 'the general albert is primary school in albertton is also named after him',\n",
       " 'then the plask stood from the 10th grade',\n",
       " 'the launch was flawless all systems were called except for doctor bans experiment',\n",
       " 'i am sorry i am not sure',\n",
       " 'the author is a blogger and social media phenomenon',\n",
       " 'maybe because that was not a game',\n",
       " 'kreme daniel grew up on the south side of chicago',\n",
       " 'will scores 2nd of the scores giving a general medical education',\n",
       " 'cats whiskers are very sensitive',\n",
       " 'it is situated to no questions time is under',\n",
       " 'this is also the 1st space flight for more and barren',\n",
       " 'there are 3 wings',\n",
       " 'the closet door stuck a little as he pulled it open revealing a bear winter floor covered on one side by a stack of old shoes boxes',\n",
       " 'other cast members include don reeve and barry nelson',\n",
       " 'for centuries after her death welshmen cried out revenge for gwinnland when engaging in battle',\n",
       " '4 7 times stand up 8',\n",
       " 'i will leave you with the most famous',\n",
       " 'she was later scrapped',\n",
       " 'everything on earth and he vanished around the corner of his eyes',\n",
       " 'emrecient years the event has usually been held in february',\n",
       " 'i would not take that too seriously',\n",
       " 'the show then we graduated to the ground in theater at los angeles',\n",
       " 'what is in my not so humble opinion most inexhaustible source of magic',\n",
       " 'it is also used to emulate sound generated by obsolete electronic equipment',\n",
       " 'cardinal kutras even suggested the hostius was a candidate for the papacin',\n",
       " 'do you play stella is sander',\n",
       " 'the mixture will produce a chlorine solution of approximately 500 milligrams per liter',\n",
       " 'we need so much to go right and things when right for me to dig',\n",
       " 'this interpretation is not objective',\n",
       " 'i always end up soft from',\n",
       " 'the motorcycle made a loud noise',\n",
       " 'you',\n",
       " 'the boy wanted to believe that his friends had simply become celebrated from getting by accident',\n",
       " 'have you ever heard the national anthem of south korea',\n",
       " 'this was stopped by the instruction of the emperor',\n",
       " 'lemon said that none of the teams were profitable',\n",
       " 'it was the 1st event under the kings of colosseum criology',\n",
       " 'so i will do the next 2',\n",
       " 'servants send suleonard way and it has begun arriving for the witty',\n",
       " 'then i return to the common darsan guadalaj',\n",
       " 'the locals near the mine have reported damages to their houses',\n",
       " 'the child was helmet on his head right to the bike',\n",
       " 'i luck eyes with a fish in the tank',\n",
       " 'kuba and boria were not initially interested in feeding petons on the work',\n",
       " 'i need a passfire for my baby',\n",
       " 'sitzenov 1st moscow state medical university',\n",
       " 'meanwhile richie frantically tries to get a style of execution',\n",
       " 'right up the interstate is to buddhism general and natural light bulbs',\n",
       " 'it is just not a lot of code',\n",
       " 'peace be unto you and grace before the lord',\n",
       " 'if you have 2 weight until the lower is over then wait',\n",
       " 'he is on the call he is up to the radio got some',\n",
       " 'let us do this in chronological order',\n",
       " 'what could we do that day',\n",
       " 'several of the tracks were used for remote development across various mediums',\n",
       " 'but not so long',\n",
       " 'she was then appointed lecturer in psychology at the university',\n",
       " 'it means i call them why i was sitting over there',\n",
       " 'sherman is mother in law margaret auding married 2nd late john porter another sign of the port smoth compact',\n",
       " 'he continues to be an active board member of association',\n",
       " 'in 1969 the 1st man set foot on the moon is surface',\n",
       " 'the path will be known as the northern strand community trail',\n",
       " 'he has been crying for 5 minutes',\n",
       " 'the spots were reallocated to the world rankings',\n",
       " 'it is a solid department within the gordon heights fire district',\n",
       " 'a friend to everybody is a friend to nobody',\n",
       " 'saint gabbaine is financial performance was adversely affected by the economic and petrol crisis',\n",
       " 'still worth a time team planting and boy group 7 selection in basketball',\n",
       " 'you have not got your wings yet',\n",
       " 'luke served as matt is best man at his wedding',\n",
       " 'his son assembly mentor lee bouture was appointed to the senate seat',\n",
       " 'the royal danish chancellor has issued an arrest warrant for hans nilsson hog',\n",
       " 'the mouth of the factory very salon the south western shore of baguabe',\n",
       " 'it also has glass cut windows and antique wooden furniture',\n",
       " 'like a fish out of water',\n",
       " 'the little mountain reunion is one of south carolina is oldest folk festivals',\n",
       " 'this is something i want in currs',\n",
       " 'so we will study medicine at the university of adelaide',\n",
       " 'he is an active justice of the supreme buddha khana',\n",
       " 'you can tell you okay you can eat it too',\n",
       " 'it is full near its dreams',\n",
       " 'the corson toth elementary school is named in his honor',\n",
       " 'sands has produced something extraordinary',\n",
       " 'and the sand and graphode had been flung farther in the f re daw action',\n",
       " 'at what is much more appearances for the excite and also wrote some meetings for eastborne eagles',\n",
       " 'they became lifelong freedom',\n",
       " 'realist hisha higgs and he exclaims i see',\n",
       " 'so let us be talking about it',\n",
       " 'and i am certain you will find it the alchemist sale',\n",
       " 'please consult your physician if you experience any side effect',\n",
       " '2 platforms are now linked by a foot bridge',\n",
       " 'expersive geology agree yes so the tsunami was just a herd of the imminent apocalypse',\n",
       " 'antarctica is called at the time of year',\n",
       " 'attached to the white roomy circumman model trainer',\n",
       " 'and man stands with on fruit elevated on the step in front of a small fire',\n",
       " 'he is also the provincial secretary of the south african communist party',\n",
       " 'the pin numbers 3 7 2 6',\n",
       " 'to do that to successfully i must have no fear of failure',\n",
       " 'the ship had sailed a 3 more times prior to capsizing during its 4th voyage',\n",
       " 'he immediately lived the bar and he did home',\n",
       " 'initially she performed in small supportive roles',\n",
       " 'the thought was so dreadful there and that you have talked about the heat and went forward',\n",
       " 'at least 60 winter locomotives have been preserved',\n",
       " 'system in our class that we can expose here in switzerland',\n",
       " 'it was 1st observed of the hawaiian island and the tahiti',\n",
       " 'it was also announced that this new team would be affiliated with roge racing',\n",
       " 'you play for the daily day of worship in the previous seasons',\n",
       " 'i do not want anything from myself',\n",
       " 'formal clinical trials in depressed patients have not been reported',\n",
       " 'japan is a society and washington information',\n",
       " 'the 2nd half of the cracker is then added on top',\n",
       " 'beach lena rade the 7 network factual series beach cups',\n",
       " 'his body was covered with branches until it was discovered by 2 men',\n",
       " 'william howard was born at hillsburg women',\n",
       " 'and glikanis and reform christian are also present in significant numbers',\n",
       " 'the new building was designed in the collegiate gothic architectural style',\n",
       " 'more patients exhibit abnormously patterns characterized by insomnia and daytime drowsiness',\n",
       " 'the 1st priority was to build an imposing church',\n",
       " 'they look for the fallen mass but far enough in',\n",
       " 'it was so small and undeveloped',\n",
       " 'we could not deal at bar loss going that far',\n",
       " 'if rahin karimal brought me to the ui i will actually explain',\n",
       " 'it seems all den wise',\n",
       " 'included in anarcho stev park is kanehpur park and aquatic garden and kanehpur park',\n",
       " 'a part of me is also trying to come to terms with the fact that i will not be able to travel as much anymore',\n",
       " 'he was survived by his 3rd wife edda a daughter and 2 stepsons',\n",
       " 'today the entire area is covered with housing',\n",
       " 'can you imagine something more beautiful than a plastic bag smoking and floating in a breeze',\n",
       " 'she all has 2 man care boards the indian international care court as well as the kim polic management air force',\n",
       " 'it has inherent support for runtime cast validation',\n",
       " 'the engineers spent the funny war periods working on defensive positions',\n",
       " 'i thought you were going to teach me some of the things you know',\n",
       " 'the 4 winners will go to the dix round',\n",
       " 'this book familiar from narrating history of companions of muhammad h',\n",
       " 'maybe she did not even remember him',\n",
       " 'the town is believed to be the birthplace of asparaduse in the new world',\n",
       " 'duma shook her head',\n",
       " 'the ragershell publish monthly newsletter for subscribers called afterdark',\n",
       " 'a group of people were not them with the guitarvers sitting by the campfire and singing songs',\n",
       " 'shiloxato is going to come to you',\n",
       " 'no',\n",
       " 'tomorrow so you can buy course',\n",
       " 'let us talk this in a 2nd',\n",
       " 'his poetry has features or your quote often with a distinct narrative storyline',\n",
       " 'for jail contains virtually no commercial industrial development with nearby saskatoon offering these services',\n",
       " 'but he prevailed',\n",
       " 'they are the 1st to start the next round',\n",
       " 'he earned extra money by renting a room in his house to a larger',\n",
       " 'medieval madness was also included in the arcade game ultrapeen',\n",
       " 'as soon as we saw me the mound of growth it helped me to come down',\n",
       " 'institutional corruption is not limited 2 national scale institutions',\n",
       " 'in this period 3 family members left the group',\n",
       " 'to calibrate the motion capture system please do a t pose',\n",
       " 'what is the height length and width of the container',\n",
       " 'she has a variety of techniques',\n",
       " 'assure the stink and pointed style the opposite of legito',\n",
       " 'there were lights in the upper windows of the houses when the people went to bed',\n",
       " 'we got what we mean is bye here',\n",
       " 'and are also asked about the acceptation of the world is literation',\n",
       " 'providing local and express service between mexico and guatemala city',\n",
       " 'do you know when it is like on valley brilliant no miss',\n",
       " 'please please please please please please please please please please please please please please please please please please please please please please please please please please please please please please please please please please please please please please please please please please please please please please please please please please please please please please please please please please please please please please please please please please please please please please please please please please please please please please please please please please please please please please please please please please please please please please please please please please please please please please please please please please please please please please please please please please please please please please please please please please please please please please please please please please please please please please please please please please please please please please please please please please please please please please please please please please please please please please please please please please please please please please please please please please please please please please please please please please please please please please please please please please please please please please please please please please please please please please please please please please please please please please please please please please please please please please please please please please please please please please',\n",
       " 'in other words the initial cooling of its surface',\n",
       " 'out of the 4 wankman is the default course monster that is selected',\n",
       " 'she could not sit still',\n",
       " 'she serves on the advisory board of the global diplomatic forum',\n",
       " 'it just seemed as safe and true',\n",
       " 'we are ready to continue to use this file as the host review',\n",
       " 'i read only what the birds wanted to tell me',\n",
       " 'please be humble',\n",
       " 'my tovers we have been new organization of some in game as to the doctor desire',\n",
       " 'the builder placed the brick onto the plank of wood so it would bend into shape',\n",
       " 'tevolume wooden english much further',\n",
       " 'cuba is in the 4th stage of demographic transition',\n",
       " 'i told you that your dream was a difficult one',\n",
       " 'should they understand the emerald tablet the boy asked',\n",
       " 'the flight to australia was long',\n",
       " 'the terminology is made confusing by the etymology of these words',\n",
       " 'it could be great',\n",
       " 'their program consists of several parts',\n",
       " 'i could not judge for her actions but i believe that she is right',\n",
       " 'these went from back to the israeli outbreak',\n",
       " 'it is motto on the name plate below the title is one of american is great newspapers',\n",
       " 'most of these subjects were found in devon and cornwall',\n",
       " 'the grass is always greener on the other side of the fence',\n",
       " 'we are heading to the peak along with the agency i have got a long plan to get there',\n",
       " 'we are going to the next one',\n",
       " 'more recently advances in sensing and computing technology have given rise to predictive maintenance',\n",
       " 'michael was involved in all 3 games',\n",
       " 'what is the matter with you',\n",
       " 'here are the beautiful paintings on the south of the black marks town 0 wark and in the 0 sweets',\n",
       " 'for a test i it has not occurred to me that it might be wrong',\n",
       " 'construction of the dent continued for 3 more years',\n",
       " 'it is country city and other cities do not die',\n",
       " 'it has no other outlet',\n",
       " 'do not worry i do not forget when i see food',\n",
       " 'that is quite another martyr',\n",
       " 'what made you do it',\n",
       " 'and is of 5 one background',\n",
       " 'the wish for the street company of canada',\n",
       " 'happy june allowed we have lost',\n",
       " 'jet is not a mineral a rather mineral water',\n",
       " 'this pieces are on the ring from drawing to able',\n",
       " 'see you guys also on the other side',\n",
       " 'it was called the modular permission after',\n",
       " 'so all exit left',\n",
       " 'you have 4 sisters',\n",
       " 'even with night vision goggles no target was inside',\n",
       " 'he is considered one of the most important drainage painters of the bitern mayor period',\n",
       " 'simon says had an extremely negative reception by critics',\n",
       " 'what did your family have to say about it',\n",
       " 'the principle concern about the ground is that it can be sufficient or too approved',\n",
       " 'he was the blessed aunt passed it up by just him girl',\n",
       " 'i would add a separate subsection which deals with this aspect',\n",
       " 'operation of the frontline continued on the wooden trusses',\n",
       " 'magnusium fluoride is transparent over an extremely wide range of wavelengths',\n",
       " 'for giant picking shits turret fresh packet potatoes and delivered them onto a railroad car',\n",
       " 'the other 14 campuses are 2 year campuses referred to collectively as the university college',\n",
       " 'it is too bad that he quickly going to forget my name',\n",
       " 'one to show in the gallery shows how the agent sleeps even the staffy or admin art on the screen',\n",
       " 'imperial diet',\n",
       " 'the resulting company needs a start tech security corporation',\n",
       " 'bitcoin mining can be done with graphics cards or with specialized hardware',\n",
       " 'they also lead the national ranking',\n",
       " 'charles grains bishop of limerick',\n",
       " 'and at that i told him and he took my place',\n",
       " 'i thought i would give the kids a treat',\n",
       " 'of the little deniator in the pictures',\n",
       " 'how do you know to keep this mail from this a pling your motor functions',\n",
       " 'that sounds like they are problem',\n",
       " 'historically there was no clearly defined boundary in the spot of the arabian peninsula',\n",
       " 'marshall shaper of slash film gave the film an 8 out of 10',\n",
       " 'how can you say that',\n",
       " 'a style began to resemble michael tamaskinos',\n",
       " 'here is also capable firing light in both of immense disruptive power',\n",
       " 'he claimed to wake its indign glenn only innings as for the webbeating',\n",
       " 'she did much she did what',\n",
       " 'e methy organizers of the protests and agreed to create 2 working groups',\n",
       " 'the bonds struck the foul cord well above the green monster',\n",
       " 'only camden thomas garrett and goldfield is saw is ekeel baker who are uncontested',\n",
       " 'it is a charity school whose fees are calculated on a means test',\n",
       " 'someone is away while i was another people came',\n",
       " 'turn it',\n",
       " 'the kira knoti was located mainly in the historical and geographical region of kira',\n",
       " 'the duration at the site is above suitable',\n",
       " 'tobias tried to inject con temp into his tone',\n",
       " 'i have to work this saturday',\n",
       " 'the freedom of his family is cookie grade was glating on their nose',\n",
       " 'when the building does he is settled a bit the boy trembled at what he saw',\n",
       " 'democrat amber baker one with the open seat',\n",
       " 'both are put into the database to get in the colleges to earn a listening program',\n",
       " 'transverse born in belize city in british honduras',\n",
       " 'the already phased old life moves fast',\n",
       " 'at one time by lulens they would from work bee station in 7 different directions',\n",
       " 'check republic entered 2 shooters into the parallel input competition',\n",
       " 'time your williams wrote the screenplay and shared story credit with the brothers',\n",
       " 'this festival works to be a charity fundraiser for the air',\n",
       " 'this extra cars were inserted randomly into the box right',\n",
       " 'and you want back to australia',\n",
       " 'permit me to introduce you to her majestid queen',\n",
       " 'in origin heroin was supposed to be the non addictive morphine substitute',\n",
       " 'she is of mexican descent',\n",
       " 'i am sure there is not on this',\n",
       " 'also do not land from the history i do not believe it',\n",
       " 'i called and stopped saren at it',\n",
       " 'for simplicity gear in chess is normally rounded to the nearest hole number',\n",
       " 'if we actually do want to solve it will be',\n",
       " 'the fruit of the fig tree is apple shaped',\n",
       " 'the exchange is no wobbly',\n",
       " 'what you eat today walks and talks tomorrow',\n",
       " 'the water then flows out of the squamps as the luopolar river',\n",
       " 'why did not you say something',\n",
       " 'have you seen omar',\n",
       " 'i could go on for days about the delicious ones produced in this part of the world',\n",
       " 'though philadelphia inquire on nintendo city playout the year',\n",
       " 'fortunately we subject special rules',\n",
       " 'the suites were unable to use their vehicles which were stuck in the mud',\n",
       " 'the act did not prohibit paying a representative to appear in the court',\n",
       " 'can we please see the real plan',\n",
       " 'he was convicted in banners disciperous for 7 years for punishment',\n",
       " 'the couple have 2 children a daughter sophia rosalina and a son matio brevery',\n",
       " 'none of the 3 refrendons reach the core of the majority of those entitled',\n",
       " 'it happened succeeded in deera samarra sipkara who saw the university through a period of strong growth',\n",
       " 'here i am between my flock and my dread to read the boy toss',\n",
       " 'this failure has led to 16 power plants having 0 days of coal stock',\n",
       " 'why does that plane keep going over',\n",
       " 'okay i have done this before with official box with good results',\n",
       " 'deplication was a perfect and fair worthy',\n",
       " 'henry tarle tombs tells where he had sounded running in latin',\n",
       " 'it was discontinued due to scheduling conflicts involved in loses return to rest view or radio',\n",
       " 'her family was from brihanza',\n",
       " 'or did he eat for dinner',\n",
       " 'that was my draw to science',\n",
       " 'he is considered a master of sharo school',\n",
       " 'and then returns to the church a sense of altar and spears',\n",
       " 'you are not going to do this but you are never on',\n",
       " 'tau jose x x x ii',\n",
       " 'my knees can help you with that',\n",
       " 'that is the kind of stuff they want',\n",
       " 'hope for the best and prepare for the most',\n",
       " 'initially the wave plot was supposed to be instantly by diet',\n",
       " 'all were owned by the everett moore syndicate',\n",
       " 'we will eat her into moral',\n",
       " 'do best ever mini lip',\n",
       " 'new seal petrie took her place as acting director',\n",
       " 'the b ve river briefly enters the east center for other township',\n",
       " 'the track resurfacing was also completed',\n",
       " 'hit marsh was aware of the importance of the electron microscopy and biological research',\n",
       " 'sinhabas boreny allahabad',\n",
       " 'this bridge is an officially referred to as black water bridge by collision forces operating there',\n",
       " 'it is responsible for water supply and management of water resources in mahajra',\n",
       " 'this is the 1st place of the job he said',\n",
       " 'the chulach doggs are running full sound',\n",
       " 'the actor is authentic facial expression was convincing the jury',\n",
       " 'all songs written by neil morse except where not it',\n",
       " 'the city took its name from the wyoming township',\n",
       " 'tal is also said to have course of gesture and attention to everything',\n",
       " 'curse them shrug their shoulders',\n",
       " 'in the author is approved of the contrasting styles',\n",
       " 'she crunched down to late tissues in spotted to fully clever',\n",
       " 'the city took his name after one of these colonists fanagoras',\n",
       " 'guess the result from the 1st course',\n",
       " 'they do not want me to play',\n",
       " 'can i be in cash',\n",
       " 'you can tell me why you came here and show you the project i have been working on it',\n",
       " 'it is known as the gery akavango in the overseas markets',\n",
       " 'i must do it but we still need to be going out and crossing the bridge to the sand pits',\n",
       " 'due to its path scientists theorized that kotech was an art cloud object',\n",
       " 'you are not today with tomorrow will need',\n",
       " 'a width of that will cure the most stubborn cold',\n",
       " 'writing across the curriculum is a school wide initiative',\n",
       " 'he played an important role in the field of education in the netherlands',\n",
       " 'the layout part does not change its pots',\n",
       " 'the coastal economy revolves around shipping and trade',\n",
       " 'full is gravity fed to the calculator',\n",
       " 'he subsequently joined these doctor king is',\n",
       " 'she begged home smiling all the way knowing that she had won',\n",
       " 'we said we are aborted and adjusted but we listen to his heart',\n",
       " 'the 8 winners of the previous round progress to the quarter finals',\n",
       " 'the inmates are transformed by the symbiots into creatures that resemble doppelganger',\n",
       " 'it is a toy it is just an earphone and fishing camping and other activities a per meter',\n",
       " 'i am sorry for it',\n",
       " 'currently he is training a new proper players in hindu can we come in to mumbai',\n",
       " 'they had 3 children deaf kate and kim burt',\n",
       " 'pay the 4th light',\n",
       " 'the table was adorned with lavish decorations',\n",
       " 'notably it provided the harsh sounds on the track and tenah',\n",
       " 'from an early age he stood at piano with his mother as well as trump',\n",
       " 'the boys look around here as they take pounds',\n",
       " 'never come on a green tree not to get on the world',\n",
       " 'their presence was necessary because it is strong and well unmatched in the area',\n",
       " 'the newspaper haktikav is hard prepared everyone for the reception of the idea',\n",
       " 'the aftermath of the destruction of florida shapes the lives of several characters',\n",
       " 'the ad hoc campus has gained a commendable reputation in a short time',\n",
       " 'it is the most comprehensive eastern armenian dictionary written in the reformed armenian orthography',\n",
       " 'brad 0 kide is part of the middle town school district',\n",
       " 'mind that are not included in the line the reserve meritia never mind farewell',\n",
       " 'plusive stops become the stops before the next stops',\n",
       " 'after the season he became a free agent',\n",
       " 'he was killed by nikaya',\n",
       " 'some shines and move sides of the hedge',\n",
       " 'it is hard to compare something this scenario and they with something i am excited about',\n",
       " 'there was also a prosperous manufacturer starch blooming to the lagrange family',\n",
       " 'with following or examples of pre fetsism group',\n",
       " 'that is give the woman credit',\n",
       " 'they are very docile and plussed animals and can be approached easily',\n",
       " 'an extension for cleaning behavior koja promises to grant kajura her eternal freedom',\n",
       " 'where do you find that a person',\n",
       " 'the line ran west from san fur to tavari is on lake uses',\n",
       " 'a locomotive depot and staff toilets were built to the north',\n",
       " 'jackson accused various political enemies of being behind lawrence',\n",
       " 'where are they now',\n",
       " 'maddox has 2 children and 2 stat children',\n",
       " 'the family moved to florida once the 2 daughters go pro',\n",
       " 'the mathematical details of the deformation parameters are as follows',\n",
       " 'another part try the t pop',\n",
       " 'that damn mouse could sense my anger',\n",
       " 'there are obvious drawbacks in the theory',\n",
       " 'you know gifts are better than 3',\n",
       " 'martinez a band done is hair after knowing that she is pregnant with his child',\n",
       " 'at your max merit test of bills',\n",
       " 'the school organizes annual trips ranging from nordonia wales to uzel france and beomot',\n",
       " 'through f m it is fayette avenue and milo street',\n",
       " 'gross along the borders of lakes plants and streams and in marshes',\n",
       " 'to her amazement she found a supermarket trolley lying on this bed',\n",
       " 'all songs written by dave windorf unless noted otherwise',\n",
       " 'the news was chilling to pay the least',\n",
       " 'i have studied cancer stream',\n",
       " 'the dixie chicks were blacklisted by 1000s of country radio stations',\n",
       " 'since they are not gay do not know who they know when they fight here as combat troops',\n",
       " 'that is true the boy thought',\n",
       " 'it needs full sun to partial shade',\n",
       " 'attempting to fit the data to carefully reach the overpedic',\n",
       " 'nicole battleie see you tomorrow',\n",
       " 'the motor end was built to accommodate car travelers traveling through kenson',\n",
       " 'all of the bus models are limited editions and track collectors',\n",
       " 'i will be talking about the surfaces that the surface is sticky',\n",
       " 'labor groups while overwhelmingly supportive expressed a set of reservations',\n",
       " 'unique consent was cited as a major hurdle for negotiators to clear',\n",
       " 'i got brunke and churdy and part i bear a broken face',\n",
       " 'a baritah taught that zalofe had daughters worldwide torah students and writers',\n",
       " 'hello i am van bernett i am a fan of the film',\n",
       " 'the original name of the hermitage was gorom zimki carpo',\n",
       " 'i see the exit where the key is to lay your thumb',\n",
       " 'wire galley covers round',\n",
       " 'earlier in his career he was district attorney of kenosha county',\n",
       " 'the segment science guides has to offer in its puppet form explaining good science',\n",
       " 'both has school is a part of clear view public schools',\n",
       " 'the questioner is too simplistic',\n",
       " 'what is the matter',\n",
       " 'you also gave masterclasses and parius countries',\n",
       " 'the company has its headquarters in bengaluru',\n",
       " 'in a little while',\n",
       " 'especially with del hart where many books about the subject partly propagating fuller is theories',\n",
       " 'his 2nd novel is alta s',\n",
       " 'it is one of the most photo gathered site in the area',\n",
       " 'you better get your friend',\n",
       " 'this is the 2nd novel written by gillham',\n",
       " 'i heard the long word that hopefully the shower was actually been filmed in new zealand',\n",
       " 'for example the current phi goes to the search menu',\n",
       " 'it is a smaller more common class of 8 lane its than narrow body art single paisers case gobby',\n",
       " 'it is never entered into you bet',\n",
       " 'i wish i could go back to the hospital',\n",
       " 'madonna she read it around her dancers while playing with the heart',\n",
       " 'his components are cheap rafael tatarpap and antonio indosa',\n",
       " 'click on the tab but with drop to gain almost immediately',\n",
       " 'he has also won gold with team on tire at the canada games',\n",
       " 'all 3 houses were originally one story residences',\n",
       " 'the water must pass water equality standards said by the environment agency',\n",
       " 'john pitz the right button',\n",
       " 'repression was conducted by the czech and the ussr in other state targets',\n",
       " 'the illumination prey of koji etmospere',\n",
       " 'john looked out the window of the showhouse happy he had more gauge approval but worried about the repayments',\n",
       " 'she knew that the ronda was not looking for revenge',\n",
       " 'he also sits on the northwest regional leaders board',\n",
       " 'if anything can go wrong it will',\n",
       " 'the suburb features many areas of greenery with native trees characterizing most streets',\n",
       " 'there is no fling around',\n",
       " 'i have the diet of a kid who found $20',\n",
       " 'there are albums occupied the top places in the final year charts',\n",
       " 'i am not going to be getting the only eye glombered in the relationship side of this',\n",
       " 'and our men in a yellow shirt standing in the doorway',\n",
       " 'kathy took £210 out of her bank account',\n",
       " 'make a while this sounds short',\n",
       " 'very good ending july each year',\n",
       " 'clustering and limit points are also defined for the related op copylters',\n",
       " 'desperate diseases must have desperate remedies',\n",
       " 'yes he is so prepared the language',\n",
       " 'henderson was taking it in',\n",
       " 'but he just performed this song',\n",
       " 'our group played gitas where the others randomly hit resonant objects',\n",
       " 'nothing lost for lack of asking',\n",
       " 'it would be ideal if the wi fi were correct',\n",
       " 'can i get your adry',\n",
       " 'to fall into the house with the door to blurt out something to put it bluntly',\n",
       " 'copy the benchmark layer and see if the application is ready',\n",
       " 'now the group participates in the anti capitalist movement and anti war movements',\n",
       " 'i want my baby to look like you',\n",
       " 'then the 2 went off to have some more tea',\n",
       " 'some scientists believe the origin of this oscillating signal to be a neutron star',\n",
       " 'how do i close this window',\n",
       " 'that of a massive rise you will nest according to some sources a snike bite',\n",
       " 'at this mountain is the highest peak of the southern muia range',\n",
       " 'i do not know where this tumor',\n",
       " 'i am going to use my hair with my hair i will use my hair to make my hair look more beautiful',\n",
       " 'i had already scrubbed the periods of the colossal bulk which was embedded in the ground',\n",
       " 'the university belongs to the council of lecture of medicine telen genusities',\n",
       " 'the next day the mind opens and work begins',\n",
       " 'this father died later than year',\n",
       " 'one of them archer and that in ablai would succeed him on the throne',\n",
       " 'during her life she was an active member of the league of women is boulders',\n",
       " 'abescent study british politics and legislative studies at the university of hall',\n",
       " 'it is a separate district',\n",
       " 'feeling bad but authors team with her in a karaoke context',\n",
       " 'they were doing for control of the republican party',\n",
       " 'primary and those symbiosis involves the engulfment of a bacterium by another free living organism',\n",
       " 'her husband crushed her larynx and killed her',\n",
       " 'the alba resi is the universal a cram form reviews',\n",
       " 'list of unlicensed and prototype news e games',\n",
       " 'usually town members are on town streets with colorful decorations and other things',\n",
       " 'the boy drew back his head with pride',\n",
       " 'read marit 3 times',\n",
       " 'he had suddenly remembered that in teretha there was an old woman who interpreted dreams',\n",
       " 'it remains to that that has passed the link to the album',\n",
       " 'when used to pay laborers record wages in the a cin world range widely',\n",
       " 'no one pit any attention to him',\n",
       " 'i left my father on my mother and the town path would be high',\n",
       " 'stouse for today is career started with this reaction to the autago goncal concept',\n",
       " 'the boy could certainly resist causing that kind of anxiety for the baker',\n",
       " 'fake stone shine but cost little',\n",
       " 'one of the world is biggest problems is the growth of the human population',\n",
       " 'almost every other house in agnasa is a person who is staying up road',\n",
       " 'and who are you',\n",
       " 'same here electricity and join the partition in the countryside',\n",
       " 'he was friend given and she was 20',\n",
       " 'so i am again with the later kick start of reading the university',\n",
       " 'it offers a trail system for horseback riding and hiking',\n",
       " 'a chord beta is yet to be set',\n",
       " 'i found out haril nim',\n",
       " 'in the last lesson i learned how to horse a rock hard horse in the great era but in the beginning of the state',\n",
       " 'well he said you reminded the boy of the old king',\n",
       " 'i need to refute the minors at this point',\n",
       " 'the boy laughed out of the happiness',\n",
       " 'he graduated cum laude with a bedshell of science and a playtime applied mathematics',\n",
       " 'she conducted negotiations with the prison commander on their behalf',\n",
       " 'the next time was collected nearby crying so well by her men back there',\n",
       " 'i will call you later',\n",
       " 'the credits are over by showing the clips of their anime',\n",
       " 'the album is won the free part series of albums by a kong',\n",
       " 'hey what do you say',\n",
       " 'the agreed text was in 3 parts',\n",
       " 'the rhythm is typically played as a snare rim pattern in both a nova music',\n",
       " 'characters can be trained in spells from multiple different colors of magic',\n",
       " 'and what became fair',\n",
       " 'compare the checks them to verify its integrity',\n",
       " 'i knew you wanted to see me',\n",
       " 'it was the tallest reinforced concrete structure in moscow',\n",
       " 'are not the 2 rather intertwined',\n",
       " 'also there was a decrease in trade interests between east and west',\n",
       " 'many cities are starting off growing the consideration on the grass roots level',\n",
       " 'it took a moment while to get to the office',\n",
       " ...]"
      ]
     },
     "execution_count": 7,
     "metadata": {},
     "output_type": "execute_result"
    }
   ],
   "source": [
    "result['transcription']"
   ]
  },
  {
   "cell_type": "code",
   "execution_count": 8,
   "metadata": {},
   "outputs": [
    {
     "name": "stdout",
     "output_type": "stream",
     "text": [
      "WER: 34.95643226905887\n"
     ]
    }
   ],
   "source": [
    "print(\"WER:\",100 * wer_load.compute(references=result[\"reference\"], predictions=result[\"transcription\"]))"
   ]
  },
  {
   "cell_type": "markdown",
   "metadata": {},
   "source": [
    "# Saliency "
   ]
  },
  {
   "cell_type": "markdown",
   "metadata": {},
   "source": [
    "## Load Dataset"
   ]
  },
  {
   "cell_type": "code",
   "execution_count": null,
   "metadata": {},
   "outputs": [],
   "source": [
    "cv_ds = load_dataset(\"mozilla-foundation/common_voice_11_0\", \"en\", split=\"test\") #load dataset\n",
    "\n",
    "sr = 16_000\n",
    "\n",
    "cv_ds_resampled = cv_ds.cast_column(\"audio\", Audio(sampling_rate=sr)) #resample to 16kHz"
   ]
  },
  {
   "cell_type": "code",
   "execution_count": 131,
   "metadata": {},
   "outputs": [
    {
     "data": {
      "text/plain": [
       "Dataset({\n",
       "    features: ['client_id', 'path', 'audio', 'sentence', 'up_votes', 'down_votes', 'age', 'gender', 'accent', 'locale', 'segment'],\n",
       "    num_rows: 100\n",
       "})"
      ]
     },
     "execution_count": 131,
     "metadata": {},
     "output_type": "execute_result"
    }
   ],
   "source": [
    "max_examples = 100\n",
    "\n",
    "cv_ds_saliency = cv_ds_resampled.select(range(0, max_examples))\n",
    "cv_ds_saliency"
   ]
  },
  {
   "cell_type": "markdown",
   "metadata": {},
   "source": [
    "## Saliency with Whisper"
   ]
  },
  {
   "cell_type": "code",
   "execution_count": null,
   "metadata": {},
   "outputs": [],
   "source": [
    "# load model and processor\n",
    "processor = WhisperProcessor.from_pretrained(\"openai/whisper-tiny\")\n",
    "model = WhisperForConditionalGeneration.from_pretrained(\"openai/whisper-tiny\")\n",
    "model.config.forced_decoder_ids = None"
   ]
  },
  {
   "cell_type": "code",
   "execution_count": 139,
   "metadata": {},
   "outputs": [],
   "source": [
    "def apply_processor(batch, dim_selected, saliency):\n",
    "    features = processor(batch[\"audio\"][\"array\"], sampling_rate=batch[\"audio\"][\"sampling_rate\"], return_tensors=\"pt\").input_features\n",
    "    if saliency:\n",
    "        # Establece a cero la dimensión seleccionada\n",
    "        features[:, dim_selected] = 0\n",
    "    batch[\"input_features\"] = features\n",
    "    return batch"
   ]
  },
  {
   "cell_type": "code",
   "execution_count": 146,
   "metadata": {},
   "outputs": [],
   "source": [
    "def map_to_pred_with_saliency(batch):\n",
    "    input_features = torch.asarray(batch[\"input_features\"])\n",
    "    batch[\"reference\"] = processor.tokenizer._normalize(batch['sentence'])\n",
    "\n",
    "    with torch.no_grad():\n",
    "        predicted_ids = model.generate(input_features)[0]\n",
    "    transcription = processor.decode(predicted_ids)\n",
    "    batch[\"transcription\"] = processor.tokenizer._normalize(transcription)\n",
    "    return batch"
   ]
  },
  {
   "cell_type": "code",
   "execution_count": 140,
   "metadata": {},
   "outputs": [
    {
     "data": {
      "application/vnd.jupyter.widget-view+json": {
       "model_id": "decc05a4be9446ffa7e305f6e1fa1ffc",
       "version_major": 2,
       "version_minor": 0
      },
      "text/plain": [
       "Map:   0%|          | 0/100 [00:00<?, ? examples/s]"
      ]
     },
     "metadata": {},
     "output_type": "display_data"
    },
    {
     "data": {
      "application/vnd.jupyter.widget-view+json": {
       "model_id": "b9cb5bbdac824a6e8d06564a7fb1c4d5",
       "version_major": 2,
       "version_minor": 0
      },
      "text/plain": [
       "Map:   0%|          | 0/100 [00:00<?, ? examples/s]"
      ]
     },
     "metadata": {},
     "output_type": "display_data"
    }
   ],
   "source": [
    "# Define la dimensión que quieres anular\n",
    "dim_to_zero_out = 0  # dimension a eliminar [0,79]\n",
    "\n",
    "# Llama a .map() con el nuevo parámetro usando fn_kwargs\n",
    "cv_ds_saliency_prep = cv_ds_saliency.map(apply_processor, fn_kwargs={'dim_selected': dim_to_zero_out, 'saliency': True})\n",
    "\n",
    "cv_ds_no_saliency_prep = cv_ds_saliency.map(apply_processor, fn_kwargs={'dim_selected': dim_to_zero_out, 'saliency': False})\n"
   ]
  },
  {
   "cell_type": "code",
   "execution_count": 162,
   "metadata": {},
   "outputs": [
    {
     "name": "stdout",
     "output_type": "stream",
     "text": [
      "Original Array: [-0.5807786 -0.5807786 -0.5807786 ... -0.5807786 -0.5807786 -0.5807786]\n",
      "Saliency Array: [0. 0. 0. ... 0. 0. 0.]\n"
     ]
    }
   ],
   "source": [
    "print('Original Array:',np.asarray(cv_ds_no_saliency_prep[0]['input_features'][0])[dim_to_zero_out])\n",
    "\n",
    "print('Saliency Array:',np.asarray(cv_ds_saliency_prep[0]['input_features'][0])[dim_to_zero_out])"
   ]
  },
  {
   "cell_type": "markdown",
   "metadata": {},
   "source": [
    "### viz salency"
   ]
  },
  {
   "cell_type": "code",
   "execution_count": 156,
   "metadata": {},
   "outputs": [],
   "source": [
    "mel_whisper_single_example = np.asarray(cv_ds_saliency_prep[0]['input_features'][0])"
   ]
  },
  {
   "cell_type": "code",
   "execution_count": 165,
   "metadata": {},
   "outputs": [
    {
     "data": {
      "image/png": "[encoded data removed]",
      "text/plain": [
       "<Figure size 1200x480 with 2 Axes>"
      ]
     },
     "metadata": {},
     "output_type": "display_data"
    }
   ],
   "source": [
    "plt.figure().set_figwidth(12)\n",
    "librosa.display.specshow(mel_whisper_single_example, x_axis=\"time\", y_axis=\"mel\", sr=sr, fmax=8000)\n",
    "plt.colorbar()\n",
    "plt.title(\"Mel spectrogram\")\n",
    "plt.show()"
   ]
  },
  {
   "cell_type": "markdown",
   "metadata": {},
   "source": [
    "## prediction on the new inputs"
   ]
  },
  {
   "cell_type": "code",
   "execution_count": 147,
   "metadata": {},
   "outputs": [
    {
     "data": {
      "application/vnd.jupyter.widget-view+json": {
       "model_id": "71a6edd9f9a142e39bcbd5ddd89091e5",
       "version_major": 2,
       "version_minor": 0
      },
      "text/plain": [
       "Map:   0%|          | 0/100 [00:00<?, ? examples/s]"
      ]
     },
     "metadata": {},
     "output_type": "display_data"
    },
    {
     "data": {
      "application/vnd.jupyter.widget-view+json": {
       "model_id": "0c231957f26749cab35e1f35d2429a23",
       "version_major": 2,
       "version_minor": 0
      },
      "text/plain": [
       "Map:   0%|          | 0/100 [00:00<?, ? examples/s]"
      ]
     },
     "metadata": {},
     "output_type": "display_data"
    }
   ],
   "source": [
    "preds_with_saliency = cv_ds_saliency_prep.map(map_to_pred_with_saliency) #predictions with dimension dropped\n",
    "preds_no_saliency = cv_ds_no_saliency_prep.map(map_to_pred_with_saliency) #predictions without dimension dropped"
   ]
  },
  {
   "cell_type": "code",
   "execution_count": 153,
   "metadata": {},
   "outputs": [
    {
     "name": "stdout",
     "output_type": "stream",
     "text": [
      "WER Saliency: 34.73360655737705\n",
      "WER No Saliency: 65.3688524590164\n",
      "WER between: 0.0\n"
     ]
    }
   ],
   "source": [
    "print(\"WER Saliency:\",100 * wer_load.compute(references=preds_with_saliency[\"reference\"], predictions=preds_with_saliency[\"transcription\"])) #WER with saliency\n",
    "\n",
    "print(\"WER No Saliency:\",100 * wer_load.compute(references=preds_no_saliency[\"reference\"], predictions=preds_no_saliency[\"transcription\"])) #WER without saliency\n",
    "\n",
    "print(\"WER between:\",100 * wer_load.compute(references=preds_with_saliency[\"reference\"], predictions=preds_no_saliency[\"reference\"]))  #WER between original reference and saliency reference"
   ]
  },
  {
   "cell_type": "markdown",
   "metadata": {},
   "source": [
    "## Compare Preds"
   ]
  },
  {
   "cell_type": "code",
   "execution_count": 154,
   "metadata": {},
   "outputs": [
    {
     "data": {
      "text/plain": [
       "['joel keaton disapproved of films and buster also had reservations about the medium',\n",
       " 'she would be alright',\n",
       " '6',\n",
       " 'all as well that ends well',\n",
       " 'it is a busy market town that serves a large surrounded area',\n",
       " 'the team had all of the champion kero leda madham in this quad 4th season',\n",
       " 'долю мигит',\n",
       " 'the new patch is less invasive than the whole one still causes regression',\n",
       " 'how is most of you are going to handle mb with this thank you and q',\n",
       " '무신스의 날은 너무 없지',\n",
       " 'no one near the remote machine you could ring',\n",
       " 'soss for the goose is soss for the gonder',\n",
       " 'gramps is thought of writing songs when she was 4 years old',\n",
       " 'even kerm mike schula was the former h good at alabama',\n",
       " 'the response was that the ball did not appoint individual officers',\n",
       " 'the long lived bridge tears stands today',\n",
       " 'there was nothing to work with him back except himself',\n",
       " 'the meat processing and construction industries would be allowed to operate with radio spersonal',\n",
       " 'coles branch is underlayed by the deep river basin',\n",
       " 'we spoke of him',\n",
       " 'he was protestant',\n",
       " 'we will do the operation with further',\n",
       " 'a ladder on the fire truck was not long enough',\n",
       " 'nd',\n",
       " 'these and the other leaders are advised and supported by the adult leaders',\n",
       " 'hello this one is a long period long to the place of course the last one has to be a good opportunity to come',\n",
       " 'good things can be smooth packages',\n",
       " 'bom se esta em chemical engineering a diversite com a r one.00',\n",
       " 'it is a member theater of the union of the theaters of europe',\n",
       " 'all 3 battalions were equipped with captured fringe tanks',\n",
       " 'you want to take this outside',\n",
       " 'she joined the k patrol line and patrol off uttalaska island',\n",
       " 'the immersion in hot water also kills the sick one',\n",
       " 'she married her business partner stephen lee',\n",
       " 'that it take on your road sharper of our screen our senior administrator',\n",
       " 'do you want me',\n",
       " 'that would be funny if he did',\n",
       " '8 national paralembec committee kota is and 3 individual athlete kota is were secured',\n",
       " 'although she had flowers and applause maybe said she was not content',\n",
       " 'add the column and put the sum here',\n",
       " 'they perfectly illuminate the flower beds of gardens',\n",
       " '音樂',\n",
       " 'alston commented that you felt the cartoonist might have had some racial intent',\n",
       " 'it is a trick crack and the shiitpaga and the oscastin will go',\n",
       " 'during the hands down it is a lot of practice to learn',\n",
       " 'man in relative shit and baseball cap viewed from above he is has a pile of postures',\n",
       " 'the 2 films were then released within one day each other',\n",
       " 'what did he say his name was asked to the captain',\n",
       " 'he has german ancestry from his paternal side',\n",
       " 'yes',\n",
       " 'benim yanımda kapalı oturmannıza gerek yok basınızda cabilirsin',\n",
       " 'after experiencing a mind blowing sensual origin mike will surely take an elaborate dose',\n",
       " 'religious festivals include the mazlong eats and the christian christmas and easter',\n",
       " 'what are you advice sir',\n",
       " 'charles looked on i angry that there was nothing he could do',\n",
       " 'she had more personal exhibitions and participated in group exhibitions as well',\n",
       " 'the money fits to made a parent in philosophical changes that others have undergone',\n",
       " 'she was also appointed the owner easily distinguished professor of medicine',\n",
       " 'karina is good enough of dancing with the stars hosted the following month',\n",
       " 'it is inhibited by the pneumotoxic center',\n",
       " 'his white green and many friends',\n",
       " 'an important person in the life of the man who was the kind who was the kind who was taking him',\n",
       " 'in the united states federal vehicle fleets refer to the federal government is vehicles',\n",
       " 'it was won by a warman from varah swedeh',\n",
       " 'the frames are then delivered to the customers',\n",
       " 'in spite of this i still live that there were men in mars',\n",
       " 'the lamb is field has to be in some other way to eat',\n",
       " 'the trends of not in clay were on the floor',\n",
       " 'อาจาวยงยงยงยงยงยงยงยงยงยงยงยงยงยงยงยงยงยงยงยงยงยงยงยงยงยงยงยงยงยงยงยงยงยงยงยงยงยงยงยงยงยงยงยงยงยงยงยงยงยงยงยงยงยงยงยงยงยงยงยงยงยงยงยงยงยงยงยงยงยงยงยงยงยงยงยงยงยงยงยงยงยงยงยงยงยงยงยงยงยงยงยงยงยงยงยงยงยงยงยงยงยงยงยงยงยงยงยงยงยงยงยงยงยงยงยงยงยงยงยงยงยงยงยงยงยงยงยงยงยงยงยงยงยงยงยงยงยงยงยงยงยงยงยงยงยงย',\n",
       " 'i pointed out mars a bright dot of light',\n",
       " 'he ended up running to the bars which fortified the windows of the 1st floor',\n",
       " 'i know why i want to get back to my vlog he thought',\n",
       " 'in the middle of the problem i am in the study composure so also international judges including gendrich kastarja',\n",
       " 'many of the supporting characters present and unflattering portrayal of colonial life in virginia',\n",
       " 'you shall see the other guy specifically how good that viking is',\n",
       " 'he is a african american italian descendant',\n",
       " 'that is not carson spinks',\n",
       " 'some rules of thumb are also accepted in the codes',\n",
       " 'laurence is listed as a swiss heritage site of national significance',\n",
       " 'i have never in life hit a tennis ball',\n",
       " 'the warehouses of mega polis ukraine in 60s were blocked by activists',\n",
       " 'nd he is the 1st known and anticipated member of the jemini',\n",
       " 'lion rock is located northwest of wontai singh',\n",
       " 'i would best to be a great western friend who was broken',\n",
       " 'her father is sure to inherit',\n",
       " 'we should not take for granted fortunately we have been',\n",
       " '다 먹고 오는데 2둘 내내',\n",
       " 'the farmer works the soil and produces grain',\n",
       " 'since i have gotten a dog the regular visits of the fox have stopped',\n",
       " 'his speech ended with a standing ovation',\n",
       " '8',\n",
       " 'the reserve is in pristine condition with almost no human habitations',\n",
       " 'the wind told me that you know about love the boy said to the sun',\n",
       " 'jails begin playing gas trumpet but everyone sure they should check to blues guitar',\n",
       " 'this is the context in which the friend begins',\n",
       " 'these qualities make her beloved by her hometown',\n",
       " 'the little pink ones are so cute',\n",
       " 'the students colored with their crayons',\n",
       " 'it seems to him that self chube is about one point of miles east here',\n",
       " 'as such it is they are beautiful but with irregular face polygons']"
      ]
     },
     "execution_count": 154,
     "metadata": {},
     "output_type": "execute_result"
    }
   ],
   "source": [
    "preds_with_saliency[\"transcription\"]"
   ]
  },
  {
   "cell_type": "code",
   "execution_count": 155,
   "metadata": {},
   "outputs": [
    {
     "data": {
      "text/plain": [
       "['joel keaton disapproved of films and buster also had reservations about the medium',\n",
       " 'she would be alright',\n",
       " '6',\n",
       " 'all as well that ends well',\n",
       " 'it is a busy market town that serves a large surrounded area',\n",
       " 'the team had all of the champion kero leda madden and this quad for this season',\n",
       " 'долю миг дит',\n",
       " 'the new patch is less invasive than the whole one still causes regression',\n",
       " 'how is most of you are going to handle and be with this thank you and q',\n",
       " '무신스에 대한 뜻을 up지',\n",
       " 'no one near the remote machine you could ring',\n",
       " 'soss for the goose is sass for the gonder',\n",
       " 'gramps is thought of writing songs when she was 4 years old',\n",
       " 'even kerm mike schula was the former h good at alabama',\n",
       " 'the response was that the ball did not appoint individual officers',\n",
       " 'the long lived bridge till stands today',\n",
       " 'there was nothing to work between that except himself',\n",
       " 'the meat processing and construction industries would be allowed to operate with radio spersonal',\n",
       " 'coles branch is underlade by the deep river basin',\n",
       " 'we spoke of him',\n",
       " 'he was protestant',\n",
       " 'we will do the operation with puzzle',\n",
       " 'a ladder on the fire truck was not long enough',\n",
       " 'i will tell her what we decided',\n",
       " 'these and the other leaders are advised and supported by the adult leaders',\n",
       " 'hello this one is a long period long to the place of course the last one has to be a good opportunity to come',\n",
       " 'good things can be smooth packages',\n",
       " 'bones is studying chemical engineering at the university college of w',\n",
       " 'it is a member theater of the union of the theaters of europe',\n",
       " 'all 3 battalions were equipped with captured fringe tanks',\n",
       " 'you want to take this outside',\n",
       " 'she joined the k patrol line and patrol off uttalaska island',\n",
       " 'the immersion in hot water also kills the sick one',\n",
       " 'she married her business partner stephen lee',\n",
       " 'that it take on your road server of our stream our senior administrator',\n",
       " 'do you want me',\n",
       " 'that would be funny if he did',\n",
       " '8 national paralembec committee kota is and 3 individual athlete kota is were secured',\n",
       " 'although she had flowers and applause maybe said she was not content',\n",
       " 'add the column and put the sum here',\n",
       " 'they perfectly illuminate the flower beds of gardens',\n",
       " '音樂',\n",
       " 'alston commented that you felt the cartoonist might have had some racial intent',\n",
       " 'it is a trick clock and the shippaga and the most western world world',\n",
       " 'during the hands down it is a lot of practice to learn',\n",
       " 'man in relative shit and baseball cap viewed from above he is has a pile of postures',\n",
       " 'the 2 films were then released within one day each other',\n",
       " 'what did he say his name was asked to the captain',\n",
       " 'he has german ancestry from his paternal side',\n",
       " 'yes',\n",
       " 'benim yanımda kapalı oturmannıza gerek yok basınızda cabilirsin',\n",
       " 'after experiencing a mind blowing sensual origin mike will surely take an elaborate dose',\n",
       " 'religious festivals include the mazlong eats and the christian christmas and easter',\n",
       " 'what are you advice sir',\n",
       " 'charles looked on i angry that there was nothing he could do',\n",
       " 'she had more personal exhibitions and participated in group exhibitions as well',\n",
       " 'the money fits to mid apparence in philosophical changes that abbot has undergone',\n",
       " 'she was also appointed the owner easily distinguished professor of medicine',\n",
       " 'karina is good enough of dancing with the stars hosted the following month',\n",
       " 'it is inhibited by the pneumotoxic center',\n",
       " 'his white green and many friends',\n",
       " 'and important person in life in the place was the hindu jhin montegi',\n",
       " 'in the united states federal vehicle fleets refer to the federal government is vehicles',\n",
       " 'it was won by a warman for long but swear they do',\n",
       " 'the frames are then delivered to the customers',\n",
       " 'in spite of this i still live that there were men in mars',\n",
       " 'the lamb is field has to be in some other way to eat',\n",
       " 'the trends of not in clay were on the floor',\n",
       " 'i thought we were going to relive this and how can we relive this i am going to relive this i am going to relive this i am going to relive this i am going to relive this i am going to relive this i am going to relive this i am going to relive this i am going to relive this i am going to relive this i am going to relive this i am going to relive this i am going to relive this i am going to relive this i am going to relive this i am going to relive this i am going to relive this i am going to relive this i am going to relive this i am going to relive this i am going to relive this i am going to relive this i am going to relive this i am going to relive this i am going to relive this i am going to relive this i am going to relive this i am going to relive this i am going to relive this i am going to relive this i am going to relive this i am going to relive this i am going to relive this i am going to relive this i am going to relive this i am going to relive this i am going to relive this i am going to relive this i am going to relive this i am going to relive this i am going to relive this i am going to relive this i am going to relive this i am going to relive this i am going to relive this i am going to relive this i am going to relive this i am going to relive this i am going to relive this i am going to relive this i am going to relive this i am going to relive this i am going to relive this i am going to relive this i am',\n",
       " 'i pointed out mars a bright dot of light',\n",
       " 'he ended up running to the bars which fortified the windows of the 1st floor',\n",
       " 'i know why i want to get back to my vlog he thought',\n",
       " 'mainly notable problem in the study composers are also international judges including gendrich kasparja',\n",
       " 'many of the sporting characters present and unflattering portrayal of colonial life in virginia',\n",
       " 'you shall see the other guy specifically how good that viking is',\n",
       " 'he is involved with american and italian descent',\n",
       " 'that is not carson spinks',\n",
       " 'some rules of thumb are also accepted in the codes',\n",
       " 'laurence is listed as a swiss heritage site of national significance',\n",
       " 'i have never in life hit a tennis ball',\n",
       " 'the warehouses of mega polis ukraine in 60s were blocked by activists',\n",
       " 'he is the 1st known and anticipated member of the gemini is',\n",
       " 'lion rock is located northwest of wontai singh',\n",
       " 'i would best to be a great western friend who was broken',\n",
       " 'her father is sure to inherit',\n",
       " 'we should not take for granted fortunately we have been',\n",
       " '다포코 오는다',\n",
       " 'the farmer works the soil and produces grain',\n",
       " 'since i have gotten a dog the regular visits of the fox have stopped',\n",
       " 'his speech ended with a standing ovation',\n",
       " '8',\n",
       " 'the reserve is in pristine condition with almost no human habitations',\n",
       " 'the wind told me that you know about love the boy said to the sun',\n",
       " 'jails begin playing gas trumpet but everyone sure they should check to blues guitar',\n",
       " 'this is the context in which the friend begins',\n",
       " 'dese qualities make her beloved by her hometown',\n",
       " 'the little pink ones are so cute',\n",
       " 'the students colored with their crayons',\n",
       " 'it seems to him that self chompting if about one point of miles is here',\n",
       " 'as such it is they are beautiful but with irregular face polygons']"
      ]
     },
     "execution_count": 155,
     "metadata": {},
     "output_type": "execute_result"
    }
   ],
   "source": [
    "preds_no_saliency[\"transcription\"]"
   ]
  }
 ],
 "metadata": {
  "kernelspec": {
   "display_name": "bats",
   "language": "python",
   "name": "python3"
  },
  "language_info": {
   "codemirror_mode": {
    "name": "ipython",
    "version": 3
   },
   "file_extension": ".py",
   "mimetype": "text/x-python",
   "name": "python",
   "nbconvert_exporter": "python",
   "pygments_lexer": "ipython3",
   "version": "3.10.13"
  }
 },
 "nbformat": 4,
 "nbformat_minor": 2
}
