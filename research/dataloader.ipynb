{
 "cells": [
  {
   "cell_type": "code",
   "execution_count": 102,
   "metadata": {},
   "outputs": [],
   "source": [
    "import torch\n",
    "from torch.utils.data import DataLoader\n",
    "from datasets import load_dataset\n",
    "from torch.nn.utils.rnn import pad_sequence\n",
    "from typing import Literal"
   ]
  },
  {
   "cell_type": "code",
   "execution_count": 103,
   "metadata": {},
   "outputs": [],
   "source": [
    "class CommonVoice(torch.utils.data.Dataset):\n",
    "    def __init__(\n",
    "        self, split: Literal[\"train\", \"validation\", \"test\"], streaming: bool = False\n",
    "    ):\n",
    "        self.dataset = load_dataset(\n",
    "            \"mozilla-foundation/common_voice_11_0\",\n",
    "            \"en\",\n",
    "            split=split,\n",
    "            streaming=streaming,\n",
    "        )\n",
    "\n",
    "    def __len__(self):\n",
    "        return len(self.dataset)\n",
    "\n",
    "    def __getitem__(self, idx):\n",
    "        item = self.dataset[idx]\n",
    "        x = torch.tensor(item[\"audio\"][\"array\"])\n",
    "        y = item[\"sentence\"]\n",
    "        return x, y\n",
    "\n",
    "\n",
    "def collate_batch(batch):\n",
    "    batch_x = [torch.tensor(item[0], dtype=torch.float32) for item in batch]\n",
    "    batch_y = [item[1] for item in batch]\n",
    "\n",
    "    batch_x_padded = pad_sequence(batch_x, batch_first=True, padding_value=0)\n",
    "\n",
    "    return batch_x_padded, batch_y"
   ]
  },
  {
   "cell_type": "code",
   "execution_count": 105,
   "metadata": {},
   "outputs": [],
   "source": [
    "ds_train = CommonVoice(\"train\")\n",
    "ds_val = CommonVoice(\"validation\")\n",
    "ds_test = CommonVoice(\"test\")"
   ]
  },
  {
   "cell_type": "code",
   "execution_count": 107,
   "metadata": {},
   "outputs": [
    {
     "data": {
      "text/plain": [
       "(tensor([ 0.0000e+00,  1.9661e-15, -7.5534e-14,  ...,  1.6872e-05,\n",
       "          1.4191e-07,  1.1668e-04], dtype=torch.float64),\n",
       " 'The track appears on the compilation album \"Kraftworks\".')"
      ]
     },
     "execution_count": 107,
     "metadata": {},
     "output_type": "execute_result"
    }
   ],
   "source": [
    "ds_train[0]"
   ]
  },
  {
   "cell_type": "code",
   "execution_count": 106,
   "metadata": {},
   "outputs": [],
   "source": [
    "dl_train = DataLoader(ds_train, batch_size=32, collate_fn=collate_batch, shuffle=True)"
   ]
  },
  {
   "cell_type": "code",
   "execution_count": 108,
   "metadata": {},
   "outputs": [
    {
     "name": "stderr",
     "output_type": "stream",
     "text": [
      "/var/folders/dh/nb8jkk192m3bjg_sb3948jkh0000gn/T/ipykernel_8013/320898950.py:23: UserWarning: To copy construct from a tensor, it is recommended to use sourceTensor.clone().detach() or sourceTensor.clone().detach().requires_grad_(True), rather than torch.tensor(sourceTensor).\n",
      "  batch_x = [torch.tensor(item[0], dtype=torch.float32) for item in batch]\n"
     ]
    }
   ],
   "source": [
    "batch = next(iter(dl_train))\n",
    "xs, ys = batch"
   ]
  },
  {
   "cell_type": "code",
   "execution_count": 110,
   "metadata": {},
   "outputs": [
    {
     "data": {
      "text/plain": [
       "tensor([[ 0.0000e+00, -6.4042e-16, -2.6238e-16,  ...,  0.0000e+00,\n",
       "          0.0000e+00,  0.0000e+00],\n",
       "        [ 0.0000e+00,  2.5533e-16, -1.0709e-14,  ...,  0.0000e+00,\n",
       "          0.0000e+00,  0.0000e+00],\n",
       "        [-4.5475e-13, -4.5475e-12, -4.0927e-12,  ...,  0.0000e+00,\n",
       "          0.0000e+00,  0.0000e+00],\n",
       "        ...,\n",
       "        [ 0.0000e+00,  5.0786e-16,  2.5514e-15,  ...,  0.0000e+00,\n",
       "          0.0000e+00,  0.0000e+00],\n",
       "        [ 0.0000e+00, -4.4333e-16, -1.6788e-15,  ...,  0.0000e+00,\n",
       "          0.0000e+00,  0.0000e+00],\n",
       "        [ 0.0000e+00, -3.0650e-14, -5.4769e-14,  ...,  0.0000e+00,\n",
       "          0.0000e+00,  0.0000e+00]])"
      ]
     },
     "execution_count": 110,
     "metadata": {},
     "output_type": "execute_result"
    }
   ],
   "source": [
    "xs"
   ]
  }
 ],
 "metadata": {
  "kernelspec": {
   "display_name": ".venv",
   "language": "python",
   "name": "python3"
  },
  "language_info": {
   "codemirror_mode": {
    "name": "ipython",
    "version": 3
   },
   "file_extension": ".py",
   "mimetype": "text/x-python",
   "name": "python",
   "nbconvert_exporter": "python",
   "pygments_lexer": "ipython3",
   "version": "3.10.12"
  }
 },
 "nbformat": 4,
 "nbformat_minor": 2
}
