{
 "cells": [
  {
   "cell_type": "code",
   "execution_count": 3,
   "metadata": {},
   "outputs": [],
   "source": [
    "from src.data.dataset import CommonVoice, collate_batch\n",
    "from torch.utils.data import DataLoader"
   ]
  },
  {
   "cell_type": "code",
   "execution_count": 2,
   "metadata": {},
   "outputs": [],
   "source": [
    "ds_train = CommonVoice(\"train\")\n",
    "ds_val = CommonVoice(\"validation\")\n",
    "ds_test = CommonVoice(\"test\")"
   ]
  },
  {
   "cell_type": "code",
   "execution_count": 4,
   "metadata": {},
   "outputs": [
    {
     "data": {
      "text/plain": [
       "(tensor([ 0.0000e+00,  1.9661e-15, -7.5534e-14,  ...,  1.6872e-05,\n",
       "          1.4191e-07,  1.1668e-04], dtype=torch.float64),\n",
       " 'The track appears on the compilation album \"Kraftworks\".')"
      ]
     },
     "execution_count": 4,
     "metadata": {},
     "output_type": "execute_result"
    }
   ],
   "source": [
    "ds_train[0]"
   ]
  },
  {
   "cell_type": "code",
   "execution_count": 5,
   "metadata": {},
   "outputs": [],
   "source": [
    "dl_train = DataLoader(ds_train, batch_size=32, collate_fn=collate_batch, shuffle=True)"
   ]
  },
  {
   "cell_type": "code",
   "execution_count": 6,
   "metadata": {},
   "outputs": [
    {
     "name": "stderr",
     "output_type": "stream",
     "text": [
      "/Users/diego/dev/BATS/src/data/dataset.py:28: UserWarning: To copy construct from a tensor, it is recommended to use sourceTensor.clone().detach() or sourceTensor.clone().detach().requires_grad_(True), rather than torch.tensor(sourceTensor).\n",
      "  batch_x = [torch.tensor(item[0], dtype=torch.float32) for item in batch]\n"
     ]
    }
   ],
   "source": [
    "batch = next(iter(dl_train))\n",
    "xs, ys = batch"
   ]
  },
  {
   "cell_type": "code",
   "execution_count": 8,
   "metadata": {},
   "outputs": [
    {
     "data": {
      "text/plain": [
       "['There is no written account of the construction date of the castle.',\n",
       " 'He held a hostile attitude towards the Imperial Duma and the Progressive Bloc.',\n",
       " 'Horbury and Ossett and towns in the low foothills of the Pennines.',\n",
       " \"Don't rake up forgotten tragedies.\",\n",
       " 'With no time left, someone has to download the Old knowledge in the brain.',\n",
       " 'John Malalas recorded that in the battle was captured Bulgar warlord.',\n",
       " 'The Brunswick green livery had variations.',\n",
       " 'Lauralee Bell worked as an actress on \"The Young and the Restless\".',\n",
       " 'Tourism is a major industry for the city.',\n",
       " 'This was also his burial place.',\n",
       " 'Her husband is Fordham University economist Darryl McLeod.',\n",
       " 'Each has its own episode list.',\n",
       " 'She has two children, Nicholas and Olivia.',\n",
       " 'Extensive limestone quarries supply important cement factories in and around the city.',\n",
       " 'Most of the inhabitants are coffea farmers.',\n",
       " 'His son Evan Spencer is currently on the same team.',\n",
       " 'In the multiplayer mode, unlike the original version, players use the Arwing solely.',\n",
       " 'When the ship sets sail, however, it is overloaded - in part with contraband.',\n",
       " 'The spherical nuts, which are surrounded by a hard shell, are edible.',\n",
       " 'Thomas W. Pyle Middle School feeds into Walt Whitman High School.',\n",
       " 'The village was built to house mineworkers for Leasingthorne Colliery.',\n",
       " 'Of his legal attainments there can be no doubt.',\n",
       " 'Fairfax was more heavily mined before the miners moved onto North West Island.',\n",
       " 'A riding instruction manual that also included martial information.',\n",
       " \"Bismarck's negotiation skills had apparently been underestimated by Blome.\",\n",
       " 'As a result of this consolidation, it no longer exists as a separate regiment.',\n",
       " 'Vanderhaeghe currently lives in Saskatoon.',\n",
       " \"Caving enthusiasts will enjoy the extensive Rat's Nest Cave.\",\n",
       " 'Her hands and legs were bound.',\n",
       " 'They continue on to Redwall, though no one really takes the fox seriously.',\n",
       " 'Mazda only used the Savanna nameplate in Japan.',\n",
       " 'As a municipal division, the Town of Buzuluk is incorporated as Buzuluk Urban Okrug.']"
      ]
     },
     "execution_count": 8,
     "metadata": {},
     "output_type": "execute_result"
    }
   ],
   "source": [
    "ys"
   ]
  }
 ],
 "metadata": {
  "kernelspec": {
   "display_name": ".venv",
   "language": "python",
   "name": "python3"
  },
  "language_info": {
   "codemirror_mode": {
    "name": "ipython",
    "version": 3
   },
   "file_extension": ".py",
   "mimetype": "text/x-python",
   "name": "python",
   "nbconvert_exporter": "python",
   "pygments_lexer": "ipython3",
   "version": "3.10.12"
  }
 },
 "nbformat": 4,
 "nbformat_minor": 2
}
