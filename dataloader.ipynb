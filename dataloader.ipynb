{
 "cells": [
  {
   "cell_type": "code",
   "execution_count": 1,
   "metadata": {},
   "outputs": [
    {
     "name": "stderr",
     "output_type": "stream",
     "text": [
      "/Users/diego/dev/BATS/.venv/lib/python3.10/site-packages/tqdm/auto.py:21: TqdmWarning: IProgress not found. Please update jupyter and ipywidgets. See https://ipywidgets.readthedocs.io/en/stable/user_install.html\n",
      "  from .autonotebook import tqdm as notebook_tqdm\n",
      "[nltk_data] Downloading package punkt to /Users/diego/nltk_data...\n",
      "[nltk_data]   Package punkt is already up-to-date!\n"
     ]
    }
   ],
   "source": [
    "from src.data.dataset import CommonVoice\n",
    "from torch.utils.data import DataLoader"
   ]
  },
  {
   "cell_type": "code",
   "execution_count": 2,
   "metadata": {},
   "outputs": [],
   "source": [
    "ds_train = CommonVoice(\"train\")\n",
    "#ds_val = CommonVoice(\"validation\")\n",
    "#ds_test = CommonVoice(\"test\")"
   ]
  },
  {
   "cell_type": "code",
   "execution_count": 5,
   "metadata": {},
   "outputs": [],
   "source": [
    "x, y = ds_train[10]"
   ]
  },
  {
   "cell_type": "code",
   "execution_count": 6,
   "metadata": {},
   "outputs": [
    {
     "data": {
      "text/plain": [
       "((13, 200), torch.Size([15]))"
      ]
     },
     "execution_count": 6,
     "metadata": {},
     "output_type": "execute_result"
    }
   ],
   "source": [
    "x.shape, y.shape"
   ]
  },
  {
   "cell_type": "code",
   "execution_count": 7,
   "metadata": {},
   "outputs": [
    {
     "data": {
      "text/plain": [
       "'the local broad is belaugh broad . <pad> <pad> <pad> <pad> <pad> <pad> <pad> <pad>'"
      ]
     },
     "execution_count": 7,
     "metadata": {},
     "output_type": "execute_result"
    }
   ],
   "source": [
    "ds_train.vocab.decode(y)"
   ]
  },
  {
   "cell_type": "code",
   "execution_count": 8,
   "metadata": {},
   "outputs": [],
   "source": [
    "dl_train = DataLoader(ds_train, batch_size=32, shuffle=True)"
   ]
  },
  {
   "cell_type": "code",
   "execution_count": 9,
   "metadata": {},
   "outputs": [],
   "source": [
    "batch = next(iter(dl_train))\n",
    "xs, ys = batch"
   ]
  },
  {
   "cell_type": "code",
   "execution_count": 11,
   "metadata": {},
   "outputs": [
    {
     "data": {
      "text/plain": [
       "tensor([[ 23,  50,  80, 303, 304,  31,  22,  10,  37,   5, 305,   4,   0,   0,\n",
       "           0],\n",
       "        [  8,  65,   7,   5, 172,  18, 173,  10,   9, 174,  43,  25, 175, 176,\n",
       "           4],\n",
       "        [ 14, 468,   5,  56,  11, 469, 470,  18, 471,   4,   0,   0,   0,   0,\n",
       "           0],\n",
       "        [137,   6,  17,  10,  34, 138,  35,   5, 139,   6,  24, 140,  60,   4,\n",
       "           0],\n",
       "        [ 13, 141,   6, 142,  55,  12,   9, 143,   8, 144, 145,   7, 146,   4,\n",
       "           0],\n",
       "        [507, 508, 509,  27,  83,  92, 510, 511,   5, 512,  11, 513,   4,   0,\n",
       "           0],\n",
       "        [  5, 128,  12,  59,  40,   5,  60, 129, 130, 131,   5, 132,   4,   0,\n",
       "           0],\n",
       "        [412,  18, 413,  12, 414,   6, 415,   4,   0,   0,   0,   0,   0,   0,\n",
       "           0],\n",
       "        [ 13, 240, 241,   6, 242,  12, 243, 244,  12, 245,  13,   5, 246,   4,\n",
       "           0],\n",
       "        [  5, 482, 483, 484,  28, 485, 486, 487,  15, 488,  33, 489,  16,  11,\n",
       "          15],\n",
       "        [330,  18, 331, 332, 333, 334, 335,  13,   5, 336,  81,   7,   5, 337,\n",
       "           4],\n",
       "        [  5,  54, 101,  19,   5, 102, 103,  15, 104,  16,   4,   0,   0,   0,\n",
       "           0],\n",
       "        [  5, 517,  12, 518, 519,  92,   7,   8, 520, 521,   7, 522,   4,   0,\n",
       "           0],\n",
       "        [ 23,  85, 384,   6,   8, 385,  25, 386, 387,   0,   0,   0,   0,   0,\n",
       "           0],\n",
       "        [ 96,  10, 541,  11, 542,  13, 543,   6, 544, 545,   6,   9, 546,  11,\n",
       "         547],\n",
       "        [ 42, 133,   8, 134,  13, 135,   6, 136,   4,   0,   0,   0,   0,   0,\n",
       "           0],\n",
       "        [ 14, 423, 424, 425, 426,  23,  85,  86,   0,   0,   0,   0,   0,   0,\n",
       "           0],\n",
       "        [ 22, 225,   5, 226, 227,  20,   5, 228,   7, 229,   9, 230,   4,   0,\n",
       "           0],\n",
       "        [ 14, 523, 524, 525,  88, 526, 527,   4,   0,   0,   0,   0,   0,   0,\n",
       "           0],\n",
       "        [ 14,  10, 205, 206,   7,   5, 207, 208,  68,  69,   4,   0,   0,   0,\n",
       "           0],\n",
       "        [ 11,  23, 587,  37, 588,  31,  49,   9,  27, 589,   7,   5, 590, 591,\n",
       "           4],\n",
       "        [ 14,  10,   8, 416, 417,   7,   5, 418, 419,  11, 420,  25, 421,   4,\n",
       "           0],\n",
       "        [ 95,  21,  58,   6, 557, 558,  93,   9, 559,   4,   0,   0,   0,   0,\n",
       "           0],\n",
       "        [ 17,  12,   5, 162, 163,  13, 164,  35, 165,   4,   0,   0,   0,   0,\n",
       "           0],\n",
       "        [  5, 392,  12,   8, 393,  31, 394,  28, 395, 396, 397,   4,   0,   0,\n",
       "           0],\n",
       "        [ 14,  10, 293, 294,  66,  21, 295,  11, 296,  38, 297,  78,   4,   0,\n",
       "           0],\n",
       "        [317,   9, 318, 319,   6,   8, 320, 321,   6,   5, 322, 323,  12,   8,\n",
       "         324],\n",
       "        [  5, 457, 458,  30,   5, 459, 460,   7,   5, 461, 462,   4,   0,   0,\n",
       "           0],\n",
       "        [ 35,  22,  45,   6, 537,  18,  53,  94, 538,  72, 539,  95, 540,   4,\n",
       "           0],\n",
       "        [429,  74, 430,  27, 431,  86,   0,   0,   0,   0,   0,   0,   0,   0,\n",
       "           0],\n",
       "        [231, 232,  21, 233,  19, 234, 235, 236, 237,  19, 238, 239,   4,   0,\n",
       "           0],\n",
       "        [ 26,  89,  37, 477, 478,   9,  90,   6, 479, 480,  90, 481,   4,   0,\n",
       "           0]])"
      ]
     },
     "execution_count": 11,
     "metadata": {},
     "output_type": "execute_result"
    }
   ],
   "source": [
    "ys"
   ]
  }
 ],
 "metadata": {
  "kernelspec": {
   "display_name": ".venv",
   "language": "python",
   "name": "python3"
  },
  "language_info": {
   "codemirror_mode": {
    "name": "ipython",
    "version": 3
   },
   "file_extension": ".py",
   "mimetype": "text/x-python",
   "name": "python",
   "nbconvert_exporter": "python",
   "pygments_lexer": "ipython3",
   "version": "3.10.12"
  }
 },
 "nbformat": 4,
 "nbformat_minor": 2
}
